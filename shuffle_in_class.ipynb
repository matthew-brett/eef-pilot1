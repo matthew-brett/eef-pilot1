{
 "cells": [
  {
   "cell_type": "markdown",
   "metadata": {},
   "source": [
    "## Shuffle\n",
    "\n",
    "<!-- requires\n",
    "slice-list -->\n",
    "Sometimes we want to take the elements in a list, and put them into a random\n",
    "order.\n",
    "\n",
    "Luckily, Python thought of that for us."
   ]
  },
  {
   "cell_type": "code",
   "execution_count": 1,
   "metadata": {},
   "outputs": [],
   "source": [
    "import random"
   ]
  },
  {
   "cell_type": "code",
   "execution_count": 2,
   "metadata": {},
   "outputs": [
    {
     "data": {
      "text/plain": [
       "[5, 1, 3, 2, 7]"
      ]
     },
     "execution_count": 2,
     "metadata": {},
     "output_type": "execute_result"
    }
   ],
   "source": [
    "my_list = [5, 1, 3, 2, 7]\n",
    "my_list"
   ]
  },
  {
   "cell_type": "markdown",
   "metadata": {},
   "source": [
    "Now we shuffle the elements to a random order:"
   ]
  },
  {
   "cell_type": "code",
   "execution_count": 6,
   "metadata": {},
   "outputs": [
    {
     "data": {
      "text/plain": [
       "[5, 2, 1, 7, 3]"
      ]
     },
     "execution_count": 6,
     "metadata": {},
     "output_type": "execute_result"
    }
   ],
   "source": [
    "random.shuffle(my_list)\n",
    "my_list"
   ]
  },
  {
   "cell_type": "markdown",
   "metadata": {},
   "source": [
    "## Exercise\n",
    "\n",
    "Here’s a cell that makes a list with the names of all the cards in a standard\n",
    "52 card pack.  Run it to get a not-shuffled pack of cards."
   ]
  },
  {
   "cell_type": "code",
   "execution_count": 7,
   "metadata": {},
   "outputs": [
    {
     "data": {
      "text/plain": [
       "['2 of Hearts',\n",
       " '3 of Hearts',\n",
       " '4 of Hearts',\n",
       " '5 of Hearts',\n",
       " '6 of Hearts',\n",
       " '7 of Hearts',\n",
       " '8 of Hearts',\n",
       " '9 of Hearts',\n",
       " '10 of Hearts',\n",
       " 'Jack of Hearts',\n",
       " 'Queen of Hearts',\n",
       " 'King of Hearts',\n",
       " 'Ace of Hearts',\n",
       " '2 of Diamonds',\n",
       " '3 of Diamonds']"
      ]
     },
     "execution_count": 7,
     "metadata": {},
     "output_type": "execute_result"
    }
   ],
   "source": [
    "suits = ['Hearts', 'Diamonds', 'Clubs', 'Spades']\n",
    "values = ['2', '3', '4', '5', '6', '7', '8', '9', '10',\n",
    "          'Jack', 'Queen', 'King', 'Ace']\n",
    "deck = []\n",
    "for suit in suits:\n",
    "    for value in values:\n",
    "        card = value + ' of ' + suit\n",
    "        deck.append(card)\n",
    "\n",
    "# Show the first 15 cards in the deck\n",
    "deck[:15]"
   ]
  },
  {
   "cell_type": "markdown",
   "metadata": {},
   "source": [
    "Shuffle the deck with `random.shuffle`.\n",
    "\n",
    "Use a `for` loop to shuffle the cards 10000 times.   Your loop might start\n",
    "like this:\n",
    "\n",
    "Count how many times the `\"Ace of Spades\"` is the first card, after\n",
    "shuffling.   What proportion is that?  Is that what you were expecting?  What\n",
    "is the exact answer, using probability?\n",
    "\n",
    "Again use a `for` loop again to shuffle the cards 10000 times.  Count how\n",
    "many times the `\"Ace of Spades\"` is either the first card or the second\n",
    "card.   What proportion is that?  Can you calculate what the exact answer is,\n",
    "using probability?"
   ]
  },
  {
   "cell_type": "code",
   "execution_count": 8,
   "metadata": {},
   "outputs": [],
   "source": [
    "random.shuffle(deck)"
   ]
  },
  {
   "cell_type": "code",
   "execution_count": 9,
   "metadata": {},
   "outputs": [
    {
     "data": {
      "text/plain": [
       "['9 of Clubs',\n",
       " '10 of Hearts',\n",
       " 'Queen of Clubs',\n",
       " '8 of Diamonds',\n",
       " 'Ace of Clubs',\n",
       " '7 of Spades',\n",
       " 'Queen of Hearts',\n",
       " '4 of Hearts',\n",
       " '8 of Clubs',\n",
       " 'Ace of Spades']"
      ]
     },
     "execution_count": 9,
     "metadata": {},
     "output_type": "execute_result"
    }
   ],
   "source": [
    "deck[:10]"
   ]
  },
  {
   "cell_type": "code",
   "execution_count": null,
   "metadata": {},
   "outputs": [],
   "source": []
  }
 ],
 "metadata": {
  "kernelspec": {
   "display_name": "Python 3",
   "language": "python",
   "name": "python3"
  },
  "language_info": {
   "codemirror_mode": {
    "name": "ipython",
    "version": 3
   },
   "file_extension": ".py",
   "mimetype": "text/x-python",
   "name": "python",
   "nbconvert_exporter": "python",
   "pygments_lexer": "ipython3",
   "version": "3.6.5"
  }
 },
 "nbformat": 4,
 "nbformat_minor": 2
}
