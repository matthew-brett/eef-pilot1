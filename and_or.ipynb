{
 "cells": [
  {
   "cell_type": "markdown",
   "metadata": {},
   "source": [
    "## and, or in expressions\n",
    "\n",
    "Imagine I had these variables:"
   ]
  },
  {
   "cell_type": "code",
   "execution_count": null,
   "metadata": {},
   "outputs": [],
   "source": [
    "my_number = 10\n",
    "my_name = \"Matthew\""
   ]
  },
  {
   "cell_type": "markdown",
   "metadata": {},
   "source": [
    "We are already familiar with expressions like these:"
   ]
  },
  {
   "cell_type": "code",
   "execution_count": null,
   "metadata": {},
   "outputs": [],
   "source": [
    "my_number == 10\n",
    "my_number == 9\n",
    "my_name == \"Matthew\""
   ]
  },
  {
   "cell_type": "markdown",
   "metadata": {},
   "source": [
    "We can combine expressions like these with `and` and `or`.\n",
    "\n",
    "## And\n",
    "\n",
    "Consider `and`. Here is an example:"
   ]
  },
  {
   "cell_type": "code",
   "execution_count": null,
   "metadata": {},
   "outputs": [],
   "source": [
    "my_number == 10 and my_name == \"Matthew\""
   ]
  },
  {
   "cell_type": "markdown",
   "metadata": {},
   "source": [
    "`and` takes a expression on the left and evaluates it.  If that statement is\n",
    "True, it then evaluates the statement on the right.  If both are True, the\n",
    "`and` expression results in True.  If either are False, it results in False.\n",
    "\n",
    "This is the same logic as we use in speech.  If I say “jump if the table is\n",
    "brown and the floor is gray”, when do you jump?  You only jump both of these\n",
    "are true: “the table is brown” and “the floor is gray”.  You don’t jump if the\n",
    "table is red and the floor is gray, or if the table is brown and the floor is\n",
    "white.  Both clauses have to be true."
   ]
  },
  {
   "cell_type": "code",
   "execution_count": null,
   "metadata": {},
   "outputs": [],
   "source": [
    "# Both clauses are True so the \"and\" is True\n",
    "my_number == 10 and my_name == \"Matthew\"\n",
    "# Only the left clause is True so the \"and\" is False\n",
    "my_number == 10 and my_name == \"John\"\n",
    "# Only the right clause is True so the \"and\" is False\n",
    "my_number == 9 and my_name == \"Matthew\""
   ]
  },
  {
   "cell_type": "markdown",
   "metadata": {},
   "source": [
    "# Exercise\n",
    "\n",
    "Start with this code fragment.  Click the triple arrows button at the top right\n",
    "to turn off the `>>>` at the front of each line, then copy the code into a cell in a\n",
    "Notebook.\n",
    "\n",
    "Run the cell.  It should return False.  Modify the variables `my_name` and\n",
    "`your_name` until the expression returns True."
   ]
  },
  {
   "cell_type": "code",
   "execution_count": null,
   "metadata": {},
   "outputs": [],
   "source": [
    "# Change my_name and your_name to make the expression below True\n",
    "my_name = \"Matthew\"\n",
    "your_name = \"Yogi\"\n",
    "len(my_name) == 5 and len(your_name) == 5"
   ]
  },
  {
   "cell_type": "markdown",
   "metadata": {},
   "source": [
    "Now try the code cell below.  Write your expression.  Evaluate the expression\n",
    "with the variables below.  It should return True.  Change `name` so that,\n",
    "when you evaluate again, it returns False.  Change it back, so it returns True\n",
    "again. Now change `a` so that it returns False again."
   ]
  },
  {
   "cell_type": "code",
   "execution_count": null,
   "metadata": {},
   "outputs": [],
   "source": [
    "# Make expression that is True only when a is less than 5 and\n",
    "# number of characters in name is greater than 5.\n",
    "a = 4\n",
    "name = \"Yogi\"\n",
    "# Your expression here"
   ]
  },
  {
   "cell_type": "markdown",
   "metadata": {},
   "source": [
    "In the cell below, I wanted to return True if `x` is less than 10 and `y`\n",
    "is greater than, or equal to `x`.  It isn’t working right.  Copy the code\n",
    "into a cell, and fix it until it works. Check it works right for other values\n",
    "of `x` and `y`."
   ]
  },
  {
   "cell_type": "code",
   "execution_count": null,
   "metadata": {},
   "outputs": [],
   "source": [
    "x = 9\n",
    "y = 9\n",
    "# Here's my expression - I was expecthing this to be True\n",
    "x < 10 and x >= x  # doctest: +SKIP"
   ]
  },
  {
   "cell_type": "markdown",
   "metadata": {},
   "source": [
    "# Or\n",
    "\n",
    "Now consider `or`.  Here is an example:"
   ]
  },
  {
   "cell_type": "code",
   "execution_count": null,
   "metadata": {},
   "outputs": [],
   "source": [
    "my_number == 9 or my_name == \"Matthew\""
   ]
  },
  {
   "cell_type": "markdown",
   "metadata": {},
   "source": [
    "`or` takes an expression on the left and evaluates it.  If it is True, it\n",
    "stops and returns True.  Otherwise it continues and evaluates the experession\n",
    "on the right.  If this is True, it returns True, otherwise it returns False.\n",
    "\n",
    "This is also the same logic as we use in speech.  If I say “jump if the table\n",
    "is red or the floor is gray”, you jump *either* if the table is red, *or* if\n",
    "the floor is gray.  Only one of the two clauses has to be true."
   ]
  },
  {
   "cell_type": "code",
   "execution_count": null,
   "metadata": {},
   "outputs": [],
   "source": [
    "# Just the right clause is True, but that makes the \"or\" True\n",
    "my_number == 9 or my_name == \"Matthew\"\n",
    "# Just the left clause is True, but that makes the \"or\" True\n",
    "my_number == 10 or my_name == \"John\"\n",
    "# Both of these are True, so the \"or\" is True\n",
    "my_number == 10 or my_name == \"Matthew\"\n",
    "# Neither of these are True, so the \"or\" is False\n",
    "my_number == 9 or my_name == \"John\""
   ]
  },
  {
   "cell_type": "markdown",
   "metadata": {},
   "source": [
    "# Exercise"
   ]
  },
  {
   "cell_type": "code",
   "execution_count": null,
   "metadata": {},
   "outputs": [],
   "source": [
    "# Change the table_colour variable to make the expression True.\n",
    "# Change it back to \"red\" again to make it false again.\n",
    "# Change the floor_colour to make the expression True.\n",
    "table_colour = \"red\"\n",
    "floor_colour = \"brown\"\n",
    "table_colour == \"brown\" or floor_colour == \"gray\""
   ]
  },
  {
   "cell_type": "markdown",
   "metadata": {},
   "source": [
    "Make an expression that evaluates to True if either of the following are True:\n",
    "\n",
    "* `x` is less than 21\n",
    "\n",
    "* `y` is greater than 42\n",
    "\n",
    "Start with the values below, and confirm that your expression evaluates to\n",
    "True.  Now try different values of `x` and `y` to show that it behaves\n",
    "correctly in all possible combinations."
   ]
  },
  {
   "cell_type": "code",
   "execution_count": null,
   "metadata": {},
   "outputs": [],
   "source": [
    "# Evaluate to True if either of the following are True:\n",
    "#   x is less than 21\n",
    "#   y is greater than 42\n",
    "x = 20\n",
    "y = 50\n",
    "# Your expression here"
   ]
  }
 ],
 "metadata": {},
 "nbformat": 4,
 "nbformat_minor": 2
}