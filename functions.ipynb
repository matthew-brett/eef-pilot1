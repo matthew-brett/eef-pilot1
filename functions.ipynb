{
 "cells": [
  {
   "cell_type": "markdown",
   "metadata": {},
   "source": [
    "## Functions\n",
    "\n",
    "<!-- notes\n",
    "\n",
    "Need something on why functions are useful (moving common operations so\n",
    "they can be re-used without retyping) (testing).\n",
    "\n",
    "Standard deviation function is too long.  Needs to be simplified to\n",
    "\n",
    "mu = my_mean(some_values)\n",
    "sum_of_squares = 0\n",
    "for value in some_values:\n",
    "    deviation = value - mu\n",
    "    sq_deviation = deviation ** 2\n",
    "    sum_of_squares = sum_of_squares + sq_deviation\n",
    "variance = sum_of_squares / len(some_values)\n",
    "return math.sqrt(variance) -->\n",
    "Have already seen functions in action, such as `len` and `print`.\n",
    "\n",
    "Here’s `len` in action:"
   ]
  },
  {
   "cell_type": "code",
   "execution_count": null,
   "metadata": {},
   "outputs": [],
   "source": [
    "my_name = \"Matthew\"\n",
    "len(my_name)"
   ]
  },
  {
   "cell_type": "markdown",
   "metadata": {},
   "source": [
    "Remember, functions have a name - `len`.  We call them by using the name,\n",
    "followed by open parenthesis - `(`, followed by zero or more arguments,\n",
    "followed by close parenthesis - `)`.\n",
    "\n",
    "`len` takes only one argument.  Try the code below - what happens?"
   ]
  },
  {
   "cell_type": "code",
   "execution_count": null,
   "metadata": {},
   "outputs": [],
   "source": [
    "your_name = \"Yogi\"\n",
    "len(my_name, your_name)  # doctest: +SKIP"
   ]
  },
  {
   "cell_type": "markdown",
   "metadata": {},
   "source": [
    "You can see that `len` returns a value.  The value is the length of the\n",
    "argument.  For strings, that is the number of characters in the string.\n",
    "\n",
    "Some functions take more than one argument.  `print` is an example.  We can\n",
    "send `print` one argument, like this:"
   ]
  },
  {
   "cell_type": "code",
   "execution_count": null,
   "metadata": {},
   "outputs": [],
   "source": [
    "print(my_name)"
   ]
  },
  {
   "cell_type": "markdown",
   "metadata": {},
   "source": [
    "We can send more than one argument to `print` by separating the arguments\n",
    "with a comma - `,`:"
   ]
  },
  {
   "cell_type": "code",
   "execution_count": null,
   "metadata": {},
   "outputs": [],
   "source": [
    "print(my_name, your_name)"
   ]
  },
  {
   "cell_type": "markdown",
   "metadata": {},
   "source": [
    "These are functions that Python provides for us.\n",
    "\n",
    "## Write-your-own mean\n",
    "\n",
    "Now we are going to write our own function.  This function will take one\n",
    "argument - a list - and return the mean of the values in the list.\n",
    "\n",
    "Remember the mean is the sum of all the values, divided by the number of\n",
    "values.\n",
    "\n",
    "To build our function, let’s start with a small list, and work out what the\n",
    "mean should be.  Copy this into a new cell in a Notebook.  Remember, lines\n",
    "beginning with `#` (“hash”) are comments - Python will ignore them, they are\n",
    "for our benefit, to remind ourselves what we are trying to do."
   ]
  },
  {
   "cell_type": "code",
   "execution_count": null,
   "metadata": {},
   "outputs": [],
   "source": [
    "# An example list\n",
    "a_list = [2, -1, 6, 9, 5, 3]\n",
    "# The sum of all the elements\n",
    "summed = 2 + -1 + 6 + 9 + 5 + 3\n",
    "n = len(a_list)\n",
    "# Mean is the sum divided by the number of elements\n",
    "a_list_mean = summed / n\n",
    "a_list_mean"
   ]
  },
  {
   "cell_type": "markdown",
   "metadata": {},
   "source": [
    "Here our list is small, and it isn’t too bad to type out all the elements with\n",
    "plus signs between them, to get the sum.   We don’t want to have to do that\n",
    "all the time, especially with a long list.  Our first task is to work out how\n",
    "to sum up all the elements of the list.  Time for a `for` loop.\n",
    "\n",
    "## Exercise\n",
    "\n",
    "Write a `for` loop that sums up all the elements in `a_list`.  Start like\n",
    "this:"
   ]
  },
  {
   "cell_type": "code",
   "execution_count": null,
   "metadata": {},
   "outputs": [],
   "source": [
    "total = 0\n",
    "# Use a for loop to go through each element ``a_list``\n",
    "# Add each element to the total\n",
    "\n",
    "print(total)"
   ]
  },
  {
   "cell_type": "markdown",
   "metadata": {},
   "source": [
    "Now finish up your calculation of the mean by dividing `total` by the number\n",
    "of elements in `a_list`.  It should equal the answer above.  You’ve\n",
    "calculated the mean!  Now it is time to put this into a function.\n",
    "\n",
    "If you’ve done the exercise, make a new list, that is the elements of the old\n",
    "list, with the mean subtracted from each element. Call this new list\n",
    "`deviations`. Sum all the elements in the `deviations` list.  Can you see\n",
    "why the sum must be the value you got, by doing a little algebra?\n",
    "\n",
    " Back to write your-own-mean\n",
    "\n",
    "Now we have the code to calculate the mean from a list of values, it’s time to\n",
    "make our own function.  The first job is to make a template, for our function,\n",
    "that just prints out its arguments.  Try this in your Notebooks:"
   ]
  },
  {
   "cell_type": "code",
   "execution_count": null,
   "metadata": {},
   "outputs": [],
   "source": [
    "def my_mean(some_values):\n",
    "    # We plan to return the mean of the values in list \"values\"\n",
    "    print(\"Running inside my_mean function\")\n",
    "    print(some_values)\n",
    "    # For now, just return 0\n",
    "    return 0"
   ]
  },
  {
   "cell_type": "markdown",
   "metadata": {},
   "source": [
    "The function starts with the word `def` which tells Python we are defining a\n",
    "function.  Next follows the name of the function – `my_mean`, followed by,\n",
    "open parenthesis - `(`.  You specify what arguments the function should\n",
    "have, in the parentheses. In our case, our function as one argument, so there\n",
    "is one value between the parentheses. Last we have close parenthesis - `)`,\n",
    "and our familiar colon at the end of the line, introducting an indented\n",
    "*block*.\n",
    "\n",
    "Next there follows a series of statements that are indented.  These statements\n",
    "are the *body* of the function.  They are the code that gets run when the\n",
    "function gets called.\n",
    "\n",
    "We return the result with the `return` statement.  For the moment we return\n",
    "a 0, but we hope to fix that soon.\n",
    "\n",
    "Try calling the function, like this:"
   ]
  },
  {
   "cell_type": "code",
   "execution_count": null,
   "metadata": {},
   "outputs": [],
   "source": [
    "result = my_mean(a_list)\n",
    "result"
   ]
  },
  {
   "cell_type": "markdown",
   "metadata": {},
   "source": [
    "Try passing another list:"
   ]
  },
  {
   "cell_type": "code",
   "execution_count": null,
   "metadata": {},
   "outputs": [],
   "source": [
    "another_list = [3, 2, 1, 0]\n",
    "result = my_mean(another_list)"
   ]
  },
  {
   "cell_type": "markdown",
   "metadata": {},
   "source": [
    "The output gives you an idea of what is happening.  When we run\n",
    "`mean(a_list)`, Python gets the value from `a_list`, and sets the name\n",
    "`some_values` to point to that value (the list).  Then it runs the indented\n",
    "function block.  Finally, with the `return` statement, it returns the value\n",
    "0.\n",
    "\n",
    "## Exercise\n",
    "\n",
    "It is time to write our function calculating the mean.\n",
    "\n",
    "Here’s a template for you to copy into a Notebook."
   ]
  },
  {
   "cell_type": "code",
   "execution_count": null,
   "metadata": {},
   "outputs": [],
   "source": [
    "def my_mean(some_values):\n",
    "    # We actually return the mean of the values in list \"values\"\n",
    "    # You may like to remove these prints later\n",
    "    print(\"Running inside my_mean function\")\n",
    "    print(some_values)\n",
    "    total = 0\n",
    "    # Use a for loop to go through each element in ``some_values``\n",
    "    # Add each element to the total\n",
    "    # When that is done, then return total divided by number of\n",
    "    # elements\n",
    "    return total / len(some_values)"
   ]
  },
  {
   "cell_type": "markdown",
   "metadata": {},
   "source": [
    "We will soon get used to testing everything we do.  Let’s start by making a\n",
    "test cell.  First run the `my_mean` cell above, to define the function.\n",
    "Then run this test cell to test that it works for values we know.  As you fix\n",
    "up `my_mean`, run the `my_mean` cell, then run the test cell again, to check."
   ]
  },
  {
   "cell_type": "code",
   "execution_count": null,
   "metadata": {},
   "outputs": [],
   "source": [
    "# Test cell for my_mean.\n",
    "a_list = [2, -1, 6, 9, 5, 3]\n",
    "result = my_mean(a_list)\n",
    "if result == 4:\n",
    "    print(\"Yes! Nice job\")\n",
    "else:\n",
    "    print(\"Oops, expected 4.0 but got\", result)"
   ]
  },
  {
   "cell_type": "markdown",
   "metadata": {},
   "source": [
    "If you’ve finished that, look around to see if you can find a library that has\n",
    "a function to calculates the mean (Google for “Python mean”). Make a new test\n",
    "function with several lists, testing that each of the lists gets the same mean\n",
    "from `my_mean` as the other mean function you found. Think of a way of\n",
    "generating a large number of different lists to test.\n",
    "\n",
    " Standard deviation\n",
    "\n",
    "Do you remember how to calculate standard deviation?\n",
    "\n",
    "Just to confuse you, there are slightly different standard deviation\n",
    "calculations, sometimes called the population standard deviation and the\n",
    "sample standard deviation. Here we are calculating the population standard\n",
    "deviation.\n",
    "\n",
    "To keep ourselves honest, let’s get someone else’s standard deviation\n",
    "calculation.  Here I am importing a library called `numpy`."
   ]
  },
  {
   "cell_type": "code",
   "execution_count": null,
   "metadata": {},
   "outputs": [],
   "source": [
    "import numpy\n",
    "type(numpy)"
   ]
  },
  {
   "cell_type": "markdown",
   "metadata": {},
   "source": [
    "Next we do the calculation ourselves.\n",
    "\n",
    "Make sure you have defined a working version of `my_mean`.  If you got\n",
    "stuck, try the version in [My mean](https://matthew-brett.github.io/les-pilot/my_mean.html).\n",
    "\n",
    "First we calculate the *deviation* of each value from the mean:"
   ]
  },
  {
   "cell_type": "code",
   "execution_count": null,
   "metadata": {},
   "outputs": [],
   "source": [
    "# First calculate the mean\n",
    "# Make sure you've got my_mean fixed up\n",
    "mu = my_mean(a_list)\n",
    "mu"
   ]
  },
  {
   "cell_type": "markdown",
   "metadata": {},
   "source": [
    "Subtract the mean from each value, to get the deviations."
   ]
  },
  {
   "cell_type": "code",
   "execution_count": null,
   "metadata": {},
   "outputs": [],
   "source": [
    "deviations = []\n",
    "for element in a_list:\n",
    "    deviation = element - mu\n",
    "    deviations.append(deviation)\n",
    "\n",
    "deviations"
   ]
  },
  {
   "cell_type": "markdown",
   "metadata": {},
   "source": [
    "Next we calculate the squared deviations:"
   ]
  },
  {
   "cell_type": "code",
   "execution_count": null,
   "metadata": {},
   "outputs": [],
   "source": [
    "sq_deviations = []\n",
    "for element in deviations:\n",
    "    sq_deviation = element ** 2\n",
    "    sq_deviations.append(sq_deviation)\n",
    "\n",
    "sq_deviations"
   ]
  },
  {
   "cell_type": "markdown",
   "metadata": {},
   "source": [
    "The average of these squared deviations, is called the *variance*.  More\n",
    "specifically, it is called the *population variance*."
   ]
  },
  {
   "cell_type": "code",
   "execution_count": null,
   "metadata": {},
   "outputs": [],
   "source": [
    "variance = my_mean(sq_deviations)\n",
    "variance"
   ]
  },
  {
   "cell_type": "markdown",
   "metadata": {},
   "source": [
    "Let’s check that we get the same answer as `numpy` for that:"
   ]
  },
  {
   "cell_type": "code",
   "execution_count": null,
   "metadata": {},
   "outputs": [],
   "source": [
    "numpy.var(a_list)"
   ]
  },
  {
   "cell_type": "markdown",
   "metadata": {},
   "source": [
    "Finally, the standard deviation is the square root of the variance.  We need a\n",
    "square root function, which we will get from the `math` module:"
   ]
  },
  {
   "cell_type": "code",
   "execution_count": null,
   "metadata": {},
   "outputs": [],
   "source": [
    "import math\n",
    "type(math)"
   ]
  },
  {
   "cell_type": "code",
   "execution_count": null,
   "metadata": {},
   "outputs": [],
   "source": [
    "math.sqrt(variance)"
   ]
  },
  {
   "cell_type": "markdown",
   "metadata": {},
   "source": [
    "This is the same as:"
   ]
  },
  {
   "cell_type": "code",
   "execution_count": null,
   "metadata": {},
   "outputs": [],
   "source": [
    "numpy.std(a_list)"
   ]
  },
  {
   "cell_type": "markdown",
   "metadata": {},
   "source": [
    "Putting that all together:"
   ]
  },
  {
   "cell_type": "code",
   "execution_count": null,
   "metadata": {},
   "outputs": [],
   "source": [
    "# First calculate the mean\n",
    "mu = my_mean(a_list)\n",
    "# Subtract mean from each value, to get the deviations.\n",
    "deviations = []\n",
    "for value in a_list:\n",
    "    deviation = value - mu\n",
    "    deviations.append(deviation)\n",
    "# Calculate the squared deviations:\n",
    "sq_deviations = []\n",
    "for value in deviations:\n",
    "    sq_deviation = value ** 2\n",
    "    sq_deviations.append(sq_deviation)\n",
    "# Population variance is mean of square deviations\n",
    "variance = my_mean(sq_deviations)\n",
    "# Standard deviation is square root of variance\n",
    "sd = math.sqrt(variance)\n",
    "sd"
   ]
  },
  {
   "cell_type": "markdown",
   "metadata": {},
   "source": [
    "# Exercise\n",
    "\n",
    "Here is a template function to return the standard deviation.\n",
    "\n",
    "Take the contents of the cell above, and put it into the function, renaming\n",
    "`a_list` to `some_values`, where you need to, and fixing the indentation.\n",
    "\n",
    "I’ve started that off for you with `mu = my_mean(some_values)`."
   ]
  },
  {
   "cell_type": "code",
   "execution_count": null,
   "metadata": {},
   "outputs": [],
   "source": [
    "# You need the math library for sqrt\n",
    "import math\n",
    "\n",
    "def my_std(some_values):\n",
    "    # We plan to return standard deviation of values in list \"values\"\n",
    "    print(\"Running inside my_std function\")\n",
    "    print(some_values)\n",
    "    # First calculate the mean\n",
    "    mu = my_mean(some_values)\n",
    "    # Put the rest of the standard deviation cell here.\n",
    "    # Return 0 - but you should return the standard deviation\n",
    "    return 0"
   ]
  },
  {
   "cell_type": "markdown",
   "metadata": {},
   "source": [
    "Here is a test cell. Keep running your `my_std` cell and the test cell until\n",
    "you see `Crushed it`."
   ]
  },
  {
   "cell_type": "code",
   "execution_count": null,
   "metadata": {},
   "outputs": [],
   "source": [
    "import numpy\n",
    "result = my_std(a_list)\n",
    "if result == numpy.std(a_list):\n",
    "    print(\"Crushed it\")\n",
    "else:\n",
    "    print(\"Expected\", numpy.std(a_list), \"got\", result)"
   ]
  },
  {
   "cell_type": "markdown",
   "metadata": {},
   "source": [
    "For extra points, see if you can reduce the two `for` loops to one `for`\n",
    "loop in the `my_std` function.  Hint: add up the total of the squared\n",
    "deviations in the loop.\n",
    "\n",
    "Next try creating a function for the *sample* standard deviation.  Copy your\n",
    "`my_std` function above, and rename it as `my_sample_std`.\n",
    "\n",
    "Thus far, we have calculated the *population* standard deviation, where the\n",
    "*population* variance is the sum of the squared deviations, divided by $N$.\n",
    "$N$ is the number of elements. Therefore, the population variance is the\n",
    "mean of the squared deviations.\n",
    "\n",
    "The *sample* variance is the sum of the squared deviations, divided by $N−1$.\n",
    "The sample standard deviation is the square root of the sample variance.\n",
    "\n",
    "The function `stdev` from the `statistics` module calculates the sample\n",
    "standard deviation. Test against that."
   ]
  }
 ],
 "metadata": {},
 "nbformat": 4,
 "nbformat_minor": 2
}