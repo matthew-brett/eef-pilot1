{
 "cells": [
  {
   "cell_type": "markdown",
   "metadata": {},
   "source": [
    "## Assignment\n",
    "\n",
    "<!-- notes\n",
    "\n",
    "Started to seem long-winded.  About 15 minutes. -->\n",
    "<!-- what we have to cover\n",
    "\n",
    "A variable as a name referring to a value.\n",
    "LHS and RHS -->\n",
    "A statement is an instruction that the Python interpreter can execute.\n",
    "\n",
    "We are going to start with an *assignment* statement.\n",
    "\n",
    "### Assignment statements\n",
    "\n",
    "Here is an assignment statement:"
   ]
  },
  {
   "cell_type": "code",
   "execution_count": null,
   "metadata": {},
   "outputs": [],
   "source": [
    "a = 10"
   ]
  },
  {
   "cell_type": "markdown",
   "metadata": {},
   "source": [
    "Prese shift-Return in the Notebook to execute this statement.\n",
    "\n",
    "An assignment statement has two parts:\n",
    "\n",
    "* The Left Hand Side or LHS - to the left of the equals sign - here `a`.\n",
    "\n",
    "* The Right Hand Side or RHS - the right of the equals sign - here `10`.\n",
    "\n",
    "The LHS - `a` is a *variable name*.\n",
    "\n",
    "The RHS - `10` is an *expression*.  When we *evaluate* the expression, we\n",
    "return a *value*.\n",
    "\n",
    "When you learn programming, and even when you get a lot of experience, it is\n",
    "useful to read to yourself what the code is doing.\n",
    "\n",
    "Read the statement above as `a gets the value 10`.\n",
    "\n",
    "To repeat: an assignment statement is\n",
    "\n",
    "> A variable name, followed by `=` followed by an expression.\n",
    "\n",
    "> It should be read as “the <variable name> gets the value <value from\n",
    "> evaluating the expression>”.\n",
    "\n",
    "For `a = 10` the expression `10` is very simple, but we can make the\n",
    "expression more complicated, like this:"
   ]
  },
  {
   "cell_type": "code",
   "execution_count": null,
   "metadata": {},
   "outputs": [],
   "source": [
    "b = 2 + 3"
   ]
  },
  {
   "cell_type": "markdown",
   "metadata": {},
   "source": [
    "Read this as “`b` gets the value from evaluating `2 and 3`”.\n",
    "\n",
    "While we are here, you can also use `\\*` for *multiply* and `/` for divide.\n",
    "For example:"
   ]
  },
  {
   "cell_type": "code",
   "execution_count": null,
   "metadata": {},
   "outputs": [],
   "source": [
    "e = 2 * 3"
   ]
  },
  {
   "cell_type": "code",
   "execution_count": null,
   "metadata": {},
   "outputs": [],
   "source": [
    "f = 6 / 3"
   ]
  },
  {
   "cell_type": "markdown",
   "metadata": {},
   "source": [
    "# Variable names\n",
    "\n",
    "Variable names can contain any letters or numbers, or the `_` character, but\n",
    "they can’t begin with a number.  Are these valid variable names?"
   ]
  },
  {
   "cell_type": "code",
   "execution_count": null,
   "metadata": {},
   "outputs": [],
   "source": [
    "c3 = 5 + 6"
   ]
  },
  {
   "cell_type": "code",
   "execution_count": null,
   "metadata": {},
   "outputs": [],
   "source": [
    "my_variable = 11 - 2"
   ]
  },
  {
   "cell_type": "code",
   "execution_count": null,
   "metadata": {},
   "outputs": [],
   "source": [
    "_Dr_Strange = 42 / 7"
   ]
  },
  {
   "cell_type": "code",
   "execution_count": null,
   "metadata": {},
   "outputs": [],
   "source": [
    "3_little_piggies = 3"
   ]
  },
  {
   "cell_type": "markdown",
   "metadata": {},
   "source": [
    "You can see what value a variable has in the jupyter notebook, by entering the\n",
    "variable name on a line on its own:"
   ]
  },
  {
   "cell_type": "code",
   "execution_count": null,
   "metadata": {},
   "outputs": [],
   "source": [
    "b"
   ]
  },
  {
   "cell_type": "markdown",
   "metadata": {},
   "source": [
    "# Syntax in assignment\n",
    "\n",
    "Remember, Python is a *language*.  For a statement to be *valid* in the\n",
    "language, it has to match the rules.  These are called *syntax rules*.  You\n",
    "already know that an assignment statement is:\n",
    "\n",
    "> A variable name, followed by `=` followed by an expression.\n",
    "\n",
    "Are these valid assignment statements?"
   ]
  },
  {
   "cell_type": "code",
   "execution_count": null,
   "metadata": {},
   "outputs": [],
   "source": [
    "e = 3 + 10\n",
    "e  #doctest: +SKIP"
   ]
  },
  {
   "cell_type": "code",
   "execution_count": null,
   "metadata": {},
   "outputs": [],
   "source": [
    "f = e + 3\n",
    "f  #doctest: +SKIP"
   ]
  },
  {
   "cell_type": "code",
   "execution_count": null,
   "metadata": {},
   "outputs": [],
   "source": [
    "5 = 3   #doctest: +SKIP\n",
    "5  #doctest: +SKIP"
   ]
  },
  {
   "cell_type": "markdown",
   "metadata": {},
   "source": [
    "# Variables in expressions\n",
    "\n",
    "The great advantage of variables, is that they can be used in expressions.\n",
    "For example:"
   ]
  },
  {
   "cell_type": "code",
   "execution_count": null,
   "metadata": {},
   "outputs": [],
   "source": [
    "a = 10"
   ]
  },
  {
   "cell_type": "code",
   "execution_count": null,
   "metadata": {},
   "outputs": [],
   "source": [
    "c = a"
   ]
  },
  {
   "cell_type": "markdown",
   "metadata": {},
   "source": [
    "Read this as “`c` gets the value from evaluating `a`”.  What is the result\n",
    "from evaluating `a`?"
   ]
  },
  {
   "cell_type": "code",
   "execution_count": null,
   "metadata": {},
   "outputs": [],
   "source": [
    "b = 5"
   ]
  },
  {
   "cell_type": "code",
   "execution_count": null,
   "metadata": {},
   "outputs": [],
   "source": [
    "d = a + b"
   ]
  },
  {
   "cell_type": "markdown",
   "metadata": {},
   "source": [
    "Read this as “`d` gets the value from evaluating `a + b`”.  What do you\n",
    "get from evaluating `a + b`?\n",
    "\n",
    "How about this statement?"
   ]
  },
  {
   "cell_type": "code",
   "execution_count": null,
   "metadata": {},
   "outputs": [],
   "source": [
    "d = d + 1"
   ]
  },
  {
   "cell_type": "markdown",
   "metadata": {},
   "source": [
    "Is it a valid assignment statement?  How would you read it?  What would you\n",
    "get for:"
   ]
  },
  {
   "cell_type": "code",
   "execution_count": null,
   "metadata": {},
   "outputs": [],
   "source": [
    "d  # doctest: +SKIP"
   ]
  },
  {
   "cell_type": "markdown",
   "metadata": {},
   "source": [
    "This assignment statement can be called an *update* assignment, because the\n",
    "value in `d` gets *updated* to the previous value in `d`, plus 1.\n",
    "\n",
    "# Exercise\n",
    "\n",
    "Get into pairs.  Allocate the driver and the navigator.  Get a piece of paper\n",
    "and a pen or pencil, and put it next to you.  Now try these.\n",
    "\n",
    "Make a variable called `my_variable` that is set to have the value 23.\n",
    "\n",
    "Make a variable called `another_variable` that is set to have the value 9.\n",
    "\n",
    "Add one to the variable `another_variable`.  After you have done this,\n",
    "`another_variable` should have the value 10.\n",
    "\n",
    "Make a variable called `third_variable` that gets the value of\n",
    "`another_variable` multiplied by `my_variable`.\n",
    "\n",
    "Show the value that `third_variable` has.\n",
    "\n",
    "Have a look at this set of assignments.  What did I do wrong?"
   ]
  },
  {
   "cell_type": "code",
   "execution_count": null,
   "metadata": {},
   "outputs": [],
   "source": [
    "p = 10\n",
    "q = 21\n",
    "r = p + s  # doctest: +SKIP"
   ]
  }
 ],
 "metadata": {},
 "nbformat": 4,
 "nbformat_minor": 2
}