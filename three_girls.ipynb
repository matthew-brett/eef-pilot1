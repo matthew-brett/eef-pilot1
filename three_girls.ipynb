{
 "cells": [
  {
   "cell_type": "markdown",
   "metadata": {},
   "source": [
    "## Three girls\n",
    "\n",
    "Now we have the machinery we need to solve the three girls simulation.\n",
    "\n",
    "Let’s start with the problem of deciding whether the next child is a boy or a\n",
    "girl.  We take a random number between 0 and 1, and if it is less than 0.5, we\n",
    "will call that 1, where 1 means a girl.  Otherwise we will call it 0, where 0\n",
    "means a boy.\n",
    "\n",
    "We use the `random` module for that:"
   ]
  },
  {
   "cell_type": "code",
   "execution_count": null,
   "metadata": {},
   "outputs": [],
   "source": [
    "import random\n",
    "type(random)"
   ]
  },
  {
   "cell_type": "markdown",
   "metadata": {},
   "source": [
    "The `random` function in the `random` module, returns a random number\n",
    "between 0 and 1."
   ]
  },
  {
   "cell_type": "code",
   "execution_count": null,
   "metadata": {},
   "outputs": [],
   "source": [
    "random.random()"
   ]
  },
  {
   "cell_type": "markdown",
   "metadata": {},
   "source": [
    "Check what the function does with `random.random?` in a Notebook cell.\n",
    "\n",
    "Now we’ll decide if the next child is a boy or a girl."
   ]
  },
  {
   "cell_type": "code",
   "execution_count": null,
   "metadata": {},
   "outputs": [],
   "source": [
    "# Get a random number, decide if it's a girl\n",
    "random_no = random.random()\n",
    "if random_no > 0.5:\n",
    "    # A girl\n",
    "    child = 1\n",
    "else:\n",
    "    # A boy\n",
    "    child = 0\n",
    "\n",
    "child"
   ]
  },
  {
   "cell_type": "markdown",
   "metadata": {},
   "source": [
    "Run this a few times to make sure it produces 0 and 1 roughly the same number\n",
    "of times.\n",
    "\n",
    "## Exercise\n",
    "\n",
    "Now we want to make a function that returns 0 or 1, where 1 has a given\n",
    "probability.  On our case we want 1 to have probability 0.5, but maybe we will\n",
    "change our minds about that later.  Here’s a template.  Fix it up to return 0\n",
    "or 1 with the given probability.\n",
    "\n",
    "Here is a test cell.  It collects lots and lots of results, expecting the\n",
    "average of all the results to add up to the given probability."
   ]
  },
  {
   "cell_type": "code",
   "execution_count": null,
   "metadata": {},
   "outputs": [],
   "source": [
    "# Test cell for get_0_or_1, prob == 0.5\n",
    "import numpy\n",
    "prob = 0.5\n",
    "samples = []\n",
    "for i in range(10000):\n",
    "    samples.append(get_0_or_1(prob))\n",
    "long_run_prob = numpy.mean(samples)\n",
    "if abs(prob - long_run_prob) < 0.01:\n",
    "    print(\"Looks right\")\n",
    "else:\n",
    "    print(\"Got\", long_run_prob, \"but expected something near\", prob)"
   ]
  },
  {
   "cell_type": "markdown",
   "metadata": {},
   "source": [
    "Now let’s try when the `prob_of_1` is not 0.5.  Do you still get a good\n",
    "answer?"
   ]
  },
  {
   "cell_type": "code",
   "execution_count": null,
   "metadata": {},
   "outputs": [],
   "source": [
    "# Test cell for get_0_or_1, prob = 0.3\n",
    "prob = 0.3\n",
    "samples = []\n",
    "for i in range(10000):\n",
    "    samples.append(get_0_or_1(prob))\n",
    "long_run_prob = numpy.mean(samples)\n",
    "if abs(prob - long_run_prob) < 0.01:\n",
    "    print(\"Looks right\")\n",
    "else:\n",
    "    print(\"Got\", long_run_prob, \"but expected something near\", prob)"
   ]
  },
  {
   "cell_type": "markdown",
   "metadata": {},
   "source": [
    "Now make a for loop that collects four samples from `get_0_or_1`, and\n",
    "calculates the sum of those values.  The four values are four children.  The\n",
    "sum is the number of girls.\n",
    "\n",
    "Now take that code, and run it 10000 times.  Collect the “number of girls”\n",
    "value in a list, for each time you go through the loop.\n",
    "\n",
    "At the end, calculate how many families had 3 girls.  Divide by the number of\n",
    "families you made (10000)."
   ]
  }
 ],
 "metadata": {},
 "nbformat": 4,
 "nbformat_minor": 2
}