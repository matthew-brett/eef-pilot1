{
 "cells": [
  {
   "cell_type": "markdown",
   "metadata": {},
   "source": [
    "## Three girls\n",
    "\n",
    "Now we have the machinery we need to solve the three girls simulation.\n",
    "\n",
    "Let’s start with the problem of deciding whether the next child is a boy or a\n",
    "girl.  We take a random number between 0 and 1, and if it is less than 0.5, we\n",
    "will call that 1, where 1 means a girl.  Otherwise we will call it 0, where 0\n",
    "means a boy.\n",
    "\n",
    "We use the `random` module for that:"
   ]
  },
  {
   "cell_type": "code",
   "execution_count": null,
   "metadata": {},
   "outputs": [],
   "source": [
    "import random\n",
    "type(random)"
   ]
  },
  {
   "cell_type": "markdown",
   "metadata": {},
   "source": [
    "The `random` function in the `random` module, returns a random number\n",
    "between 0 and 1."
   ]
  },
  {
   "cell_type": "code",
   "execution_count": null,
   "metadata": {},
   "outputs": [],
   "source": [
    "random.random()"
   ]
  },
  {
   "cell_type": "markdown",
   "metadata": {},
   "source": [
    "Check what the function does with `random.random?` in a Notebook cell.\n",
    "\n",
    "Now we’ll decide if the next child is a boy or a girl."
   ]
  },
  {
   "cell_type": "code",
   "execution_count": null,
   "metadata": {},
   "outputs": [],
   "source": [
    "# Get a random number, decide if it's a girl\n",
    "random_no = random.random()\n",
    "if random_no < 0.5:\n",
    "    # A girl\n",
    "    child = 1\n",
    "else:\n",
    "    # A boy\n",
    "    child = 0\n",
    "\n",
    "child"
   ]
  },
  {
   "cell_type": "markdown",
   "metadata": {},
   "source": [
    "Run this a few times to make sure it produces 0 and 1 roughly the same number\n",
    "of times.\n",
    "\n",
    "## Exercise\n",
    "\n",
    "Now we want to make a function that returns 0 or 1, where 1 has a given\n",
    "probability.  On our case we want 1 to have probability 0.5, but maybe we will\n",
    "change our minds about that later.  Here’s a template.  Fix it up to return 0\n",
    "or 1 with the given probability.\n",
    "\n",
    "Here is a test cell.  It collects lots and lots of results, expecting the\n",
    "average of all the results to add up to the given probability."
   ]
  },
  {
   "cell_type": "code",
   "execution_count": null,
   "metadata": {},
   "outputs": [],
   "source": [
    "# Test cell for get_0_or_1, prob == 0.5\n",
    "import numpy\n",
    "prob = 0.5\n",
    "samples = []\n",
    "for i in range(10000):\n",
    "    samples.append(get_0_or_1(prob))\n",
    "long_run_prob = numpy.mean(samples)\n",
    "if abs(prob - long_run_prob) < 0.01:\n",
    "    print(\"Looks right\")\n",
    "else:\n",
    "    print(\"Got\", long_run_prob, \"but expected something near\", prob)"
   ]
  },
  {
   "cell_type": "markdown",
   "metadata": {},
   "source": [
    "Now let’s try when the `prob_of_1` is not 0.5 (below)."
   ]
  },
  {
   "cell_type": "code",
   "execution_count": null,
   "metadata": {},
   "outputs": [],
   "source": [
    "# Test cell for get_0_or_1, prob = 0.3\n",
    "prob = 0.3\n",
    "samples = []\n",
    "for i in range(10000):\n",
    "    samples.append(get_0_or_1(prob))\n",
    "long_run_prob = numpy.mean(samples)\n",
    "if abs(prob - long_run_prob) < 0.01:\n",
    "    print(\"Looks right\")\n",
    "else:\n",
    "    print(\"Got\", long_run_prob, \"but expected something near\", prob)"
   ]
  },
  {
   "cell_type": "markdown",
   "metadata": {},
   "source": [
    "Do you still get a good answer?  If not, try going to a piece of paper.  Draw\n",
    "the interval 0 to 1 as a rectangle and shade in the part that you are looking\n",
    "for in your function.\n",
    "\n",
    "Do you agree that it is reasonable to check that the average of a large number\n",
    "of 0 or 1 samples, with 1 having a given probability, will tend to be the\n",
    "given probability?  For example, I’m checking the average of 10000 samples of\n",
    "0, 1, with 1 having probability 0.3.  I’m testing that the average is about\n",
    "0.3.  Is that reasonable?  How would you make that case to someone who didn’t\n",
    "believe you?\n",
    "\n",
    "# Make a family\n",
    "\n",
    "Our task now is to make a `for` loop that collects four samples from\n",
    "`get_0_or_1`, and counts how many of these values are 1. This is our number\n",
    "of girls in the family."
   ]
  },
  {
   "cell_type": "code",
   "execution_count": null,
   "metadata": {},
   "outputs": [],
   "source": [
    "children = []\n",
    "for i in range(4):\n",
    "    child = get_0_or_1(0.5)\n",
    "    children.append(child)\n",
    "\n",
    "n_girls = children.count(1)\n",
    "n_girls"
   ]
  },
  {
   "cell_type": "markdown",
   "metadata": {},
   "source": [
    "## Exercise\n",
    "\n",
    "Make a function called `girls_in_family`, that takes no arguments.  The\n",
    "function will make a series of children, just like the cell above, then count\n",
    "the girls, and return the number of girls.  Like this:"
   ]
  },
  {
   "cell_type": "code",
   "execution_count": null,
   "metadata": {},
   "outputs": [],
   "source": [
    "def girls_in_family():\n",
    "    # Make a family of 4, return number of girls\n",
    "    # Your code here, likely from the cell above\n",
    "    return n_girls"
   ]
  },
  {
   "cell_type": "markdown",
   "metadata": {},
   "source": [
    "Call this function a few times to check you get some answer between 0 and 4:"
   ]
  },
  {
   "cell_type": "code",
   "execution_count": null,
   "metadata": {},
   "outputs": [],
   "source": [
    "girls_in_family()"
   ]
  },
  {
   "cell_type": "markdown",
   "metadata": {},
   "source": [
    "Here’s a test cell for your function.  When your function is right, this test\n",
    "should pass."
   ]
  },
  {
   "cell_type": "code",
   "execution_count": null,
   "metadata": {},
   "outputs": [],
   "source": [
    "# Test for girls_in_family\n",
    "# Assumes the right answer is 0.25, on average\n",
    "girl_counts = []\n",
    "for i in range(10000):\n",
    "    girl_count = girls_in_family()\n",
    "    if girl_count < 0 or girl_count > 4:\n",
    "        print(\"Expecting number between 0 and 4, got\", girl_count)\n",
    "    girl_counts.append(girl_count)\n",
    "\n",
    "proportion = girl_counts.count(3) / 10000\n",
    "if abs(proportion - 0.25) < 0.01:\n",
    "    print(\"Could well be right\")\n",
    "else:\n",
    "    print(\"Expecting something near 0.25, got\", proportion)"
   ]
  },
  {
   "cell_type": "markdown",
   "metadata": {},
   "source": [
    "If you get that done quickly, try rewriting your `girls_in_family` function\n",
    "to take two arguments, the probability of having a girl (up until now, 0.5),\n",
    "and the number of children (up until now, 4).  It would start like this:\n",
    "\n",
    "Modify the test cell above to use this new code, initially using a probability\n",
    "of 0.5 and number of children of 4.  Try adapting the test to check for the\n",
    "right answer with other probabilities and other numbers of children.\n",
    "\n",
    " How many girls?\n",
    "\n",
    "Now we take that code, and run it 10000 times.  We collect the “number of\n",
    "girls” value in a list, for each time we go through the loop.\n",
    "\n",
    "At the end, we calculate how many families had 3 girls.  Divide by the number\n",
    "of families you made (10000).\n",
    "\n",
    "Something like this:"
   ]
  },
  {
   "cell_type": "code",
   "execution_count": null,
   "metadata": {},
   "outputs": [],
   "source": [
    "girl_counts = []\n",
    "for i in range(10000):\n",
    "    girl_count = girls_in_family()\n",
    "    girl_counts.append(girl_count)\n",
    "\n",
    "proportion = girl_counts.count(3) / 10000\n",
    "print(\"Estimate for probability of 3 girls is\", proportion)"
   ]
  },
  {
   "cell_type": "markdown",
   "metadata": {},
   "source": [
    "Run this a few times, to get an idea of the range of answers.\n",
    "\n",
    "## Exercise\n",
    "\n",
    "Up until now, we’ve assumed that the chance that a child is a boy is 0.5.  Now\n",
    "assume the proportion of boys born in the UK is 0.513 .  Hence\n",
    "the proportion of girls is 1-0.513 = 0.487.\n",
    "\n",
    "Here is a working function to return the number of girls in a family of 4,\n",
    "given a probability of having a girl of 0.5:"
   ]
  },
  {
   "cell_type": "code",
   "execution_count": null,
   "metadata": {},
   "outputs": [],
   "source": [
    "def girls_in_family():\n",
    "    # Make a family of 4, return number of girls\n",
    "    # Your code here, likely from the cell above\n",
    "    children = []\n",
    "    for i in range(4):\n",
    "        child = get_0_or_1(0.5)\n",
    "        children.append(child)\n",
    "    n_girls = children.count(1)\n",
    "    return n_girls"
   ]
  },
  {
   "cell_type": "markdown",
   "metadata": {},
   "source": [
    "Here’s the code cell we used above to calculate the number of families with 3\n",
    "girls:"
   ]
  },
  {
   "cell_type": "code",
   "execution_count": null,
   "metadata": {},
   "outputs": [],
   "source": [
    "girl_counts = []\n",
    "for i in range(10000):\n",
    "    girl_count = girls_in_family()\n",
    "    girl_counts.append(girl_count)\n",
    "\n",
    "proportion = girl_counts.count(3) / 10000\n",
    "print(\"Estimate for probability of 3 girls is\", proportion)"
   ]
  },
  {
   "cell_type": "markdown",
   "metadata": {},
   "source": [
    "Change the `girls_in_family` function above to use the actual probability of\n",
    "having a girl.\n",
    "\n",
    "When you’ve done that, run the cell above to get a more realistic estimate of\n",
    "the chances of exactly 3 girls in a family of 4.\n",
    "\n",
    "Do you expect the answer to be less or greater than the answer you got when\n",
    "the probability was 0.5?\n",
    "\n",
    "Given that the correct answer is 0.25, with a probability-of-having-girl of\n",
    "0.5, what would be your guess at the correct answer, with a probability of\n",
    "0.487?  Why?"
   ]
  }
 ],
 "metadata": {},
 "nbformat": 4,
 "nbformat_minor": 2
}