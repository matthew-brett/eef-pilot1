{
 "cells": [
  {
   "cell_type": "markdown",
   "metadata": {},
   "source": [
    "## Working with lists\n",
    "\n",
    "## Indexing lists\n",
    "\n",
    "Sometimes, we want to split up lists, or get elements from lists.\n",
    "\n",
    "We can do this with list slicing."
   ]
  },
  {
   "cell_type": "code",
   "execution_count": null,
   "metadata": {},
   "outputs": [],
   "source": [
    "my_list = [5, 1, 3, 2, 7, 10]\n",
    "my_list"
   ]
  },
  {
   "cell_type": "markdown",
   "metadata": {},
   "source": [
    "The elements have *positions* in the list.  These positions are also called\n",
    "*indices*?\n",
    "\n",
    "In Python, as for many other languages, the first *position* or *index*, is 0.\n",
    "\n",
    "How do I get the first element in the list?"
   ]
  },
  {
   "cell_type": "code",
   "execution_count": null,
   "metadata": {},
   "outputs": [],
   "source": [
    "# The first element of the list\n",
    "my_list[0]"
   ]
  },
  {
   "cell_type": "markdown",
   "metadata": {},
   "source": [
    "The number 0 in `my_list[0]`, is the list *position* or *index*.\n",
    "The index of the first element is 0, the index of the second element is 1, and\n",
    "so on:"
   ]
  },
  {
   "cell_type": "code",
   "execution_count": null,
   "metadata": {},
   "outputs": [],
   "source": [
    "my_list = [5, 1, 3, 2, 7, 10]\n",
    "print(\"The list is\", my_list)\n",
    "list_length = len(my_list)\n",
    "print(\"The length of the list is\", list_length)\n",
    "for i in range(list_length):\n",
    "    print(\"The value at index\", i, \"is\", my_list[i])\n"
   ]
  },
  {
   "cell_type": "markdown",
   "metadata": {},
   "source": [
    "## Exercise\n",
    "\n",
    "Get the third element (element at position 2).\n",
    "\n",
    "Get the last element.\n",
    "\n",
    "Add the first element to the last element.\n",
    "\n",
    "### Taking slices from lists\n",
    "\n",
    "Let’s say I only want the first 3 numbers from this list.  I can do this with\n",
    "list slicing:"
   ]
  },
  {
   "cell_type": "code",
   "execution_count": null,
   "metadata": {},
   "outputs": [],
   "source": [
    "# Get the elements at positions up to, but not including 3\n",
    "first_3 = my_list[:3]\n",
    "first_3"
   ]
  },
  {
   "cell_type": "markdown",
   "metadata": {},
   "source": [
    "Read the colon `:` as “everything up to (but not including)”. So, you can\n",
    "read the slice expression `my_list[:3]` as “get all the elements from\n",
    "`my_list` up to, but not including, the element at position 3”.  You can\n",
    "also read this as “get the first 3 elements”.\n",
    "\n",
    "Let’s say I did not want to start at the first element.  I can do this by\n",
    "putting the position that I want to start at, before the colon.  For example,\n",
    "here I get the elements at indices 2 and 3 (the third and fourth elements):"
   ]
  },
  {
   "cell_type": "code",
   "execution_count": null,
   "metadata": {},
   "outputs": [],
   "source": [
    "# Get the third and fourth elements\n",
    "third_fourth = my_list[2:4]\n",
    "third_fourth"
   ]
  },
  {
   "cell_type": "markdown",
   "metadata": {},
   "source": [
    "Read as “all the elements starting at position 2, up to, but not including,\n",
    "the element at position 4”.\n",
    "\n",
    "I can also miss off the value after the colon.  In that case, Python concludes\n",
    "you want all the elements, up to the end."
   ]
  },
  {
   "cell_type": "code",
   "execution_count": null,
   "metadata": {},
   "outputs": [],
   "source": [
    "# Get all the elements from the third, to the end.\n",
    "third_to_end = my_list[2:]\n",
    "third_to_end"
   ]
  },
  {
   "cell_type": "markdown",
   "metadata": {},
   "source": [
    "If you find the indices confusing (0 is first, 1 is second), you’re not alone.\n",
    "It takes time to get used to that.  Although it can be confusing, I think\n",
    "you’ll find, over time, it starts to make sense.\n",
    "\n",
    "# Splitting a list\n",
    "\n",
    "We often want to split a list into a two parts.  List slicing does that\n",
    "nicely.  Here we split a list into the two.  The first list contains the first\n",
    "3 elements, and second contains everything after that."
   ]
  },
  {
   "cell_type": "code",
   "execution_count": null,
   "metadata": {},
   "outputs": [],
   "source": [
    "# First 3 - colon followed by 3\n",
    "first_3 = my_list[:3]\n",
    "# Everything after - 3 followed by colon\n",
    "everything_after = my_list[3:]\n",
    "first_3\n",
    "everything_after"
   ]
  },
  {
   "cell_type": "markdown",
   "metadata": {},
   "source": [
    "# Exercise\n",
    "\n",
    "Here’s a list of all the numbers from 100 to 120, inclusive:"
   ]
  },
  {
   "cell_type": "code",
   "execution_count": null,
   "metadata": {},
   "outputs": [],
   "source": [
    "hundred_plus = list(range(100, 121))"
   ]
  },
  {
   "cell_type": "markdown",
   "metadata": {},
   "source": [
    "Split this list into two, the first containing the first 5 elements, and the\n",
    "second containing elements from position 5 to the end.\n",
    "\n",
    "Use `sum` ([Sum](https://matthew-brett.github.io/les-pilot/sum.html)) or a `for` loop to calculate the sum of these two\n",
    "lists.\n",
    "\n",
    "Show that the sum of these two sums is equal to the sum of the whole\n",
    "`hundred_plus` list.\n",
    "\n",
    "Split the list into three lists, each of 10 elements:\n",
    "\n",
    "* the first 10 elements;\n",
    "\n",
    "* elements from position 10 up to, but not including position 20;\n",
    "\n",
    "* the remainder.\n",
    "\n",
    "Show the sums of each of these three lists.\n",
    "\n",
    "List slicing can also use step sizes, as in `my_list[2:10:3]` (where `3`\n",
    "is the step size).  Try using step sizes to take the sum of every second\n",
    "element, starting at the element at position 5, up to, but not including, the\n",
    "element at position 15.  I think that should be 545.  You can also omit the\n",
    "second (end position) number.  Do that to calculate the sum of every fourth\n",
    "element starting at position 3, to the end.   I think that’s 555."
   ]
  }
 ],
 "metadata": {},
 "nbformat": 4,
 "nbformat_minor": 2
}