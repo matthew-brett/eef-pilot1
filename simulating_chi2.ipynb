{
 "cells": [
  {
   "cell_type": "code",
   "execution_count": 1,
   "metadata": {},
   "outputs": [
    {
     "data": {
      "text/plain": [
       "10"
      ]
     },
     "execution_count": 1,
     "metadata": {},
     "output_type": "execute_result"
    }
   ],
   "source": [
    "men_study = 1\n",
    "men_not_study = 9\n",
    "women_study = 11\n",
    "women_not_study = 3\n",
    "\n",
    "men_total = men_study + men_not_study\n",
    "men_total"
   ]
  },
  {
   "cell_type": "code",
   "execution_count": 2,
   "metadata": {},
   "outputs": [
    {
     "data": {
      "text/plain": [
       "14"
      ]
     },
     "execution_count": 2,
     "metadata": {},
     "output_type": "execute_result"
    }
   ],
   "source": [
    "women_total = women_study + women_not_study\n",
    "women_total"
   ]
  },
  {
   "cell_type": "code",
   "execution_count": 3,
   "metadata": {},
   "outputs": [
    {
     "data": {
      "text/plain": [
       "12"
      ]
     },
     "execution_count": 3,
     "metadata": {},
     "output_type": "execute_result"
    }
   ],
   "source": [
    "study_total = men_study + women_study\n",
    "study_total"
   ]
  },
  {
   "cell_type": "code",
   "execution_count": 4,
   "metadata": {},
   "outputs": [
    {
     "data": {
      "text/plain": [
       "12"
      ]
     },
     "execution_count": 4,
     "metadata": {},
     "output_type": "execute_result"
    }
   ],
   "source": [
    "not_study_total = men_not_study + women_not_study\n",
    "not_study_total"
   ]
  },
  {
   "cell_type": "code",
   "execution_count": 5,
   "metadata": {},
   "outputs": [
    {
     "data": {
      "text/plain": [
       "24"
      ]
     },
     "execution_count": 5,
     "metadata": {},
     "output_type": "execute_result"
    }
   ],
   "source": [
    "n = women_total + men_total\n",
    "n"
   ]
  },
  {
   "cell_type": "code",
   "execution_count": 6,
   "metadata": {},
   "outputs": [
    {
     "data": {
      "text/plain": [
       "24"
      ]
     },
     "execution_count": 6,
     "metadata": {},
     "output_type": "execute_result"
    }
   ],
   "source": [
    "study_total + not_study_total"
   ]
  },
  {
   "cell_type": "code",
   "execution_count": 7,
   "metadata": {},
   "outputs": [
    {
     "data": {
      "text/plain": [
       "0.4166666666666667"
      ]
     },
     "execution_count": 7,
     "metadata": {},
     "output_type": "execute_result"
    }
   ],
   "source": [
    "p_man = men_total / n\n",
    "p_man"
   ]
  },
  {
   "cell_type": "code",
   "execution_count": 8,
   "metadata": {},
   "outputs": [
    {
     "data": {
      "text/plain": [
       "0.5"
      ]
     },
     "execution_count": 8,
     "metadata": {},
     "output_type": "execute_result"
    }
   ],
   "source": [
    "p_study = study_total / n\n",
    "p_study"
   ]
  },
  {
   "cell_type": "code",
   "execution_count": 9,
   "metadata": {
    "collapsed": true
   },
   "outputs": [],
   "source": [
    "import random\n",
    "\n",
    "def is_man():\n",
    "    if random.random() <= p_man:\n",
    "        return 1\n",
    "    return 0"
   ]
  },
  {
   "cell_type": "code",
   "execution_count": 10,
   "metadata": {},
   "outputs": [
    {
     "data": {
      "text/plain": [
       "0.41435"
      ]
     },
     "execution_count": 10,
     "metadata": {},
     "output_type": "execute_result"
    }
   ],
   "source": [
    "people = []\n",
    "for i in range(100000):\n",
    "    people.append(is_man())\n",
    "sum(people) / len(people)"
   ]
  },
  {
   "cell_type": "code",
   "execution_count": 11,
   "metadata": {
    "collapsed": true
   },
   "outputs": [],
   "source": [
    "def is_studier():\n",
    "    if random.random() <= p_study:\n",
    "        return 1\n",
    "    return 0"
   ]
  },
  {
   "cell_type": "code",
   "execution_count": 12,
   "metadata": {},
   "outputs": [
    {
     "data": {
      "text/plain": [
       "0.50056"
      ]
     },
     "execution_count": 12,
     "metadata": {},
     "output_type": "execute_result"
    }
   ],
   "source": [
    "people = []\n",
    "for i in range(100000):\n",
    "    people.append(is_studier())\n",
    "sum(people) / len(people)"
   ]
  },
  {
   "cell_type": "code",
   "execution_count": 13,
   "metadata": {
    "collapsed": true
   },
   "outputs": [],
   "source": [
    "def make_table(n_observations):\n",
    "    simu_men_study = 0\n",
    "    simu_men_not_study = 0\n",
    "    simu_women_study = 0\n",
    "    simu_women_not_study = 0\n",
    "    for i in range(n_observations):\n",
    "        if is_man():\n",
    "            if is_studier():\n",
    "                simu_men_study += 1\n",
    "            else:\n",
    "                simu_men_not_study += 1\n",
    "        else: # A woman\n",
    "            if is_studier():\n",
    "                simu_women_study += 1\n",
    "            else:\n",
    "                simu_women_not_study += 1\n",
    "    return simu_men_study, simu_men_not_study, simu_women_study, simu_women_not_study"
   ]
  },
  {
   "cell_type": "code",
   "execution_count": 14,
   "metadata": {},
   "outputs": [
    {
     "data": {
      "text/plain": [
       "(2, 12, 3, 7)"
      ]
     },
     "execution_count": 14,
     "metadata": {},
     "output_type": "execute_result"
    }
   ],
   "source": [
    "make_table(n)"
   ]
  },
  {
   "cell_type": "code",
   "execution_count": 15,
   "metadata": {},
   "outputs": [
    {
     "data": {
      "text/plain": [
       "(2, 5, 6, 11)"
      ]
     },
     "execution_count": 15,
     "metadata": {},
     "output_type": "execute_result"
    }
   ],
   "source": [
    "make_table(n)"
   ]
  },
  {
   "cell_type": "code",
   "execution_count": 31,
   "metadata": {
    "collapsed": true
   },
   "outputs": [],
   "source": [
    "def make_similar_table():\n",
    "    while True:  # Run forever, until break\n",
    "        s_m_s, s_m_ns, s_w_s, s_w_ns = make_table(n)\n",
    "        if  s_m_s + s_m_ns != men_total:  # men for this table\n",
    "            continue\n",
    "        if s_w_s + s_w_ns != women_total:  # women for this table\n",
    "            continue\n",
    "        if s_m_s + s_w_s != study_total:\n",
    "            continue\n",
    "        if s_m_ns + s_w_ns != not_study_total:\n",
    "            continue\n",
    "        break # the rows and columns are all equal to the original\n",
    "    return s_m_s, s_m_ns, s_w_s, s_w_ns"
   ]
  },
  {
   "cell_type": "code",
   "execution_count": 74,
   "metadata": {},
   "outputs": [
    {
     "data": {
      "text/plain": [
       "(6, 4, 6, 8)"
      ]
     },
     "execution_count": 74,
     "metadata": {},
     "output_type": "execute_result"
    }
   ],
   "source": [
    "make_similar_table()"
   ]
  },
  {
   "cell_type": "code",
   "execution_count": 36,
   "metadata": {},
   "outputs": [],
   "source": [
    "p_woman = 1 - p_man\n",
    "p_not_study = 1 - p_study\n",
    "e_m_s = p_man * p_study * n\n",
    "e_m_ns = p_man * p_not_study * n\n",
    "e_w_s = p_woman * p_study * n\n",
    "e_w_ns = p_woman * p_not_study * n"
   ]
  },
  {
   "cell_type": "code",
   "execution_count": 84,
   "metadata": {
    "collapsed": true
   },
   "outputs": [],
   "source": [
    "def chi2(m_s, m_ns, w_s, w_ns):\n",
    "    oe2_m_s = (m_s - e_m_s) ** 2 / e_m_s\n",
    "    oe2_m_ns = (m_ns - e_m_ns) ** 2 / e_m_ns\n",
    "    oe2_w_s = (w_s - e_w_s) ** 2 / e_w_s\n",
    "    oe2_w_ns = (w_ns - e_w_ns) ** 2 / e_w_ns\n",
    "    return oe2_m_s + oe2_m_ns + oe2_w_s + oe2_w_ns"
   ]
  },
  {
   "cell_type": "code",
   "execution_count": 89,
   "metadata": {},
   "outputs": [
    {
     "data": {
      "text/plain": [
       "10.971428571428572"
      ]
     },
     "execution_count": 89,
     "metadata": {},
     "output_type": "execute_result"
    }
   ],
   "source": [
    "actual_chi2 = chi2(men_study, men_not_study, women_study, women_not_study)\n",
    "actual_chi2"
   ]
  },
  {
   "cell_type": "code",
   "execution_count": 90,
   "metadata": {},
   "outputs": [
    {
     "data": {
      "text/plain": [
       "0.6857142857142858"
      ]
     },
     "execution_count": 90,
     "metadata": {},
     "output_type": "execute_result"
    }
   ],
   "source": [
    "s_m_s, s_m_ns, s_w_s, s_w_ns = make_similar_table()\n",
    "simulated_chi2 = chi2(s_m_s, s_m_ns, s_w_s, s_w_ns)\n",
    "simulated_chi2"
   ]
  },
  {
   "cell_type": "code",
   "execution_count": 113,
   "metadata": {},
   "outputs": [],
   "source": [
    "n_repeats = 10000\n",
    "simulated_chi2s = []\n",
    "for i in range(n_repeats):\n",
    "    s_m_s, s_m_ns, s_w_s, s_w_ns = make_similar_table()\n",
    "    s_chi2 = chi2(s_m_s, s_m_ns, s_w_s, s_w_ns)\n",
    "    simulated_chi2s.append(s_chi2)"
   ]
  },
  {
   "cell_type": "code",
   "execution_count": 114,
   "metadata": {
    "collapsed": true
   },
   "outputs": [],
   "source": [
    "%matplotlib inline"
   ]
  },
  {
   "cell_type": "code",
   "execution_count": 115,
   "metadata": {
    "collapsed": true
   },
   "outputs": [],
   "source": [
    "import matplotlib.pyplot as plt"
   ]
  },
  {
   "cell_type": "code",
   "execution_count": 116,
   "metadata": {},
   "outputs": [
    {
     "data": {
      "image/png": "[encoded data removed]",
      "text/plain": [
       "<matplotlib.figure.Figure at 0x7fa1f6262da0>"
      ]
     },
     "metadata": {},
     "output_type": "display_data"
    }
   ],
   "source": [
    "plt.hist(simulated_chi2s, bins=100);"
   ]
  },
  {
   "cell_type": "code",
   "execution_count": 117,
   "metadata": {
    "collapsed": true
   },
   "outputs": [],
   "source": [
    "simulated_chi2s.sort()"
   ]
  },
  {
   "cell_type": "code",
   "execution_count": 118,
   "metadata": {},
   "outputs": [
    {
     "data": {
      "text/plain": [
       "9999"
      ]
     },
     "execution_count": 118,
     "metadata": {},
     "output_type": "execute_result"
    }
   ],
   "source": [
    "first_as_big = n_repeats\n",
    "for i in range(n_repeats):\n",
    "    if simulated_chi2s[i] >= actual_chi2:\n",
    "        first_as_big = i\n",
    "first_as_big"
   ]
  },
  {
   "cell_type": "code",
   "execution_count": 119,
   "metadata": {},
   "outputs": [
    {
     "name": "stdout",
     "output_type": "stream",
     "text": [
      "0.0001\n"
     ]
    }
   ],
   "source": [
    "number_as_big = n_repeats - first_as_big\n",
    "proportion_as_big = number_as_big / n_repeats\n",
    "print(proportion_as_big)"
   ]
  },
  {
   "cell_type": "code",
   "execution_count": null,
   "metadata": {
    "collapsed": true
   },
   "outputs": [],
   "source": []
  }
 ],
 "metadata": {
  "kernelspec": {
   "display_name": "Python 3",
   "language": "python",
   "name": "python3"
  },
  "language_info": {
   "codemirror_mode": {
    "name": "ipython",
    "version": 3
   },
   "file_extension": ".py",
   "mimetype": "text/x-python",
   "name": "python",
   "nbconvert_exporter": "python",
   "pygments_lexer": "ipython3",
   "version": "3.5.4"
  }
 },
 "nbformat": 4,
 "nbformat_minor": 2
}
