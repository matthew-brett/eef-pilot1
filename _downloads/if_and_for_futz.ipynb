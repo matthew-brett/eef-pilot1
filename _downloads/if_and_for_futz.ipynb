{
 "cells": [
  {
   "cell_type": "code",
   "execution_count": 1,
   "metadata": {},
   "outputs": [
    {
     "name": "stdout",
     "output_type": "stream",
     "text": [
      "yes\n"
     ]
    }
   ],
   "source": [
    "x = 21\n",
    "if x % 7 == 0:\n",
    "    print(\"yes\")"
   ]
  },
  {
   "cell_type": "code",
   "execution_count": 2,
   "metadata": {},
   "outputs": [
    {
     "name": "stdout",
     "output_type": "stream",
     "text": [
      "yes\n"
     ]
    }
   ],
   "source": [
    "x = 21\n",
    "if x % 7 == 0:\n",
    "    print(\"yes\")\n",
    "else:\n",
    "    print(\"no\")"
   ]
  },
  {
   "cell_type": "code",
   "execution_count": 3,
   "metadata": {},
   "outputs": [
    {
     "name": "stdout",
     "output_type": "stream",
     "text": [
      "no neither\n"
     ]
    }
   ],
   "source": [
    "x = 29\n",
    "if x % 7 == 0:\n",
    "    print(\"yes 7\")\n",
    "else:\n",
    "    if x % 4 == 0:\n",
    "        print(\"yes 4\")\n",
    "    else:\n",
    "        print(\"no neither\")"
   ]
  },
  {
   "cell_type": "code",
   "execution_count": 4,
   "metadata": {},
   "outputs": [
    {
     "name": "stdout",
     "output_type": "stream",
     "text": [
      "no neither\n"
     ]
    }
   ],
   "source": [
    "x = 29\n",
    "if x % 7 == 0:\n",
    "    print(\"yes 7\")\n",
    "elif x % 4 == 0:\n",
    "    print(\"yes 4\")\n",
    "else:\n",
    "    print(\"no neither\")"
   ]
  },
  {
   "cell_type": "code",
   "execution_count": 5,
   "metadata": {},
   "outputs": [
    {
     "name": "stdout",
     "output_type": "stream",
     "text": [
      "Here I am\n",
      "1\n",
      "Here I am\n",
      "3\n",
      "Here I am\n",
      "5\n"
     ]
    }
   ],
   "source": [
    "my_list = [1, 3, 5]\n",
    "for value in my_list:\n",
    "    print(\"Here I am\")\n",
    "    print(value)"
   ]
  },
  {
   "cell_type": "code",
   "execution_count": 6,
   "metadata": {},
   "outputs": [
    {
     "name": "stdout",
     "output_type": "stream",
     "text": [
      "Here I am\n",
      "1\n",
      "Here I am\n",
      "3\n",
      "Here I am\n",
      "5\n"
     ]
    }
   ],
   "source": [
    "# First time through the loop\n",
    "value = 1\n",
    "print(\"Here I am\")\n",
    "print(value)\n",
    "# Second time through the loop\n",
    "value = 3\n",
    "print(\"Here I am\")\n",
    "print(value)\n",
    "# Third time through the loop\n",
    "print(\"Here I am\")\n",
    "value = 5\n",
    "print(value)"
   ]
  },
  {
   "cell_type": "code",
   "execution_count": 7,
   "metadata": {},
   "outputs": [
    {
     "name": "stdout",
     "output_type": "stream",
     "text": [
      "Value is 1 current total is 1\n",
      "Value is 3 current total is 4\n",
      "Value is 5 current total is 9\n",
      "Value is 7 current total is 16\n",
      "Value is 9 current total is 25\n",
      "25\n"
     ]
    }
   ],
   "source": [
    "odd_numbers = [1, 3, 5, 7, 9]\n",
    "# A variable to hold the running total of the numbers\n",
    "total = 0\n",
    "for value in odd_numbers:\n",
    "    \"Do something here\"\n",
    "    # If I print(total) here:\n",
    "    #  The first time through the list I get 1\n",
    "    #  The second time through the list I get 4 (1 + 3 == 4)\n",
    "    #  The third time through the list I get 9 (4 + 5 == 9)\n",
    "    #  The fourth time through the list I get 16 (9 + 7 == 16)\n",
    "    #  The fifth time through the list I get 25 (16 + 9 == 25)\n",
    "    total = total + value\n",
    "    print(\"Value is\", value, \"current total is\", total)\n",
    "print(total)"
   ]
  },
  {
   "cell_type": "code",
   "execution_count": 8,
   "metadata": {},
   "outputs": [
    {
     "name": "stdout",
     "output_type": "stream",
     "text": [
      "25\n"
     ]
    }
   ],
   "source": [
    "total = 0\n",
    "\n",
    "# Now the loop, unrolled\n",
    "value = 1\n",
    "total = total + value\n",
    "value = 3\n",
    "total = total + value\n",
    "value = 5\n",
    "total = total + value\n",
    "value = 7\n",
    "total = total + value\n",
    "value = 9\n",
    "total = total + value\n",
    "print(total)"
   ]
  }
 ],
 "metadata": {
  "kernelspec": {
   "display_name": "Python 3",
   "language": "python",
   "name": "python3"
  },
  "language_info": {
   "codemirror_mode": {
    "name": "ipython",
    "version": 3
   },
   "file_extension": ".py",
   "mimetype": "text/x-python",
   "name": "python",
   "nbconvert_exporter": "python",
   "pygments_lexer": "ipython3",
   "version": "3.6.5"
  }
 },
 "nbformat": 4,
 "nbformat_minor": 2
}
