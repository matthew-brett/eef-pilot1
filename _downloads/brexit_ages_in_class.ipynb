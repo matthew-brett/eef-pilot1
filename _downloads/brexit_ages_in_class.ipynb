{
 "cells": [
  {
   "cell_type": "markdown",
   "metadata": {},
   "source": [
    "## Comparing two groups with permutation testing\n",
    "\n",
    "We return to the Brexit age data from [Where are the Brexiteers?](https://matthew-brett.github.io/les-pilot/brexit_problem.html).\n",
    "\n",
    "Here’s the data from the processing we did in [Where are the Brexiteers?](https://matthew-brett.github.io/les-pilot/brexit_analysis.html):\n",
    "\n",
    "* [remain_leave.csv](https://matthew-brett.github.io/les-pilot/_downloads/remain_leave.csv).\n",
    "\n",
    "Download the data file from the link above if you haven’t already got it in\n",
    "your Notebook directory."
   ]
  },
  {
   "cell_type": "code",
   "execution_count": 1,
   "metadata": {},
   "outputs": [
    {
     "data": {
      "text/plain": [
       "0.4114068441064639"
      ]
     },
     "execution_count": 1,
     "metadata": {},
     "output_type": "execute_result"
    }
   ],
   "source": [
    "import pandas as pd\n",
    "remain_leave = pd.read_csv('remain_leave.csv')\n",
    "remainers = remain_leave[remain_leave['brexit'] == 1]\n",
    "brexiteers = remain_leave[remain_leave['brexit'] == 2]\n",
    "# Confirm our proportions haven't changed\n",
    "len(brexiteers) / (len(brexiteers) + len(remainers))"
   ]
  },
  {
   "cell_type": "markdown",
   "metadata": {},
   "source": [
    "For convenience we get our ages scores into lists for each group:"
   ]
  },
  {
   "cell_type": "code",
   "execution_count": 2,
   "metadata": {},
   "outputs": [
    {
     "data": {
      "text/plain": [
       "0.4114068441064639"
      ]
     },
     "execution_count": 2,
     "metadata": {},
     "output_type": "execute_result"
    }
   ],
   "source": [
    "# We make a list from the Pandas column with the \"list\" function\n",
    "brexit_ages = list(brexiteers['age'])\n",
    "remain_ages = list(remainers['age'])\n",
    "# Check our proportions again\n",
    "len(brexit_ages) / (len(brexit_ages) + len(remain_ages))"
   ]
  },
  {
   "cell_type": "code",
   "execution_count": 3,
   "metadata": {},
   "outputs": [
    {
     "data": {
      "text/plain": [
       "[71, 60, 74, 61, 47, 56, 76, 35, 44, 38]"
      ]
     },
     "execution_count": 3,
     "metadata": {},
     "output_type": "execute_result"
    }
   ],
   "source": [
    "brexit_ages[:10]"
   ]
  },
  {
   "cell_type": "code",
   "execution_count": 4,
   "metadata": {},
   "outputs": [
    {
     "data": {
      "text/plain": [
       "[37, 55, 37, 42, 69, 20, 38, 32, 58, 46]"
      ]
     },
     "execution_count": 4,
     "metadata": {},
     "output_type": "execute_result"
    }
   ],
   "source": [
    "remain_ages[:10]"
   ]
  },
  {
   "cell_type": "markdown",
   "metadata": {},
   "source": [
    "Let’s put up the histograms of these two groups again:"
   ]
  },
  {
   "cell_type": "code",
   "execution_count": 5,
   "metadata": {},
   "outputs": [],
   "source": [
    "%matplotlib inline"
   ]
  },
  {
   "cell_type": "code",
   "execution_count": 6,
   "metadata": {},
   "outputs": [],
   "source": [
    "import matplotlib.pyplot as plt"
   ]
  },
  {
   "cell_type": "code",
   "execution_count": 7,
   "metadata": {},
   "outputs": [
    {
     "data": {
      "text/plain": [
       "(array([47., 49., 61., 63., 63., 90., 68., 66., 26.,  8.]),\n",
       " array([18. , 25.4, 32.8, 40.2, 47.6, 55. , 62.4, 69.8, 77.2, 84.6, 92. ]),\n",
       " <a list of 10 Patch objects>)"
      ]
     },
     "execution_count": 7,
     "metadata": {},
     "output_type": "execute_result"
    },
    {
     "data": {
      "image/png": "[encoded data removed]",
      "text/plain": [
       "<Figure size 432x288 with 1 Axes>"
      ]
     },
     "metadata": {},
     "output_type": "display_data"
    }
   ],
   "source": [
    "plt.hist(brexit_ages)"
   ]
  },
  {
   "cell_type": "code",
   "execution_count": 8,
   "metadata": {},
   "outputs": [
    {
     "data": {
      "text/plain": [
       "(array([112.,  90., 103.,  83.,  89.,  94.,  96.,  65.,  31.,  11.]),\n",
       " array([18. , 25.4, 32.8, 40.2, 47.6, 55. , 62.4, 69.8, 77.2, 84.6, 92. ]),\n",
       " <a list of 10 Patch objects>)"
      ]
     },
     "execution_count": 8,
     "metadata": {},
     "output_type": "execute_result"
    },
    {
     "data": {
      "image/png": "[encoded data removed]",
      "text/plain": [
       "<Figure size 432x288 with 1 Axes>"
      ]
     },
     "metadata": {},
     "output_type": "display_data"
    }
   ],
   "source": [
    "plt.hist(remain_ages)"
   ]
  },
  {
   "cell_type": "markdown",
   "metadata": {},
   "source": [
    "The remainers look as though they may be a bit younger on average.\n",
    "\n",
    "Let’s look at the mean age for the two groups.\n",
    "\n",
    "The *mean* of the values in the list is defined as the sum divided by\n",
    "the number of items.  Here is the mean age of the Brexit Leave voters:"
   ]
  },
  {
   "cell_type": "code",
   "execution_count": 9,
   "metadata": {},
   "outputs": [
    {
     "data": {
      "text/plain": [
       "51.715341959334566"
      ]
     },
     "execution_count": 9,
     "metadata": {},
     "output_type": "execute_result"
    }
   ],
   "source": [
    "sum(brexit_ages) / len(brexit_ages)"
   ]
  },
  {
   "cell_type": "markdown",
   "metadata": {},
   "source": [
    "We can define a function to calculate the mean:"
   ]
  },
  {
   "cell_type": "code",
   "execution_count": 10,
   "metadata": {},
   "outputs": [],
   "source": [
    "def mean(some_list):\n",
    "    # Calculates the mean of the values in `some_list`\n",
    "    return sum(some_list) / len(some_list)"
   ]
  },
  {
   "cell_type": "markdown",
   "metadata": {},
   "source": [
    "Now we can get the mean with:"
   ]
  },
  {
   "cell_type": "code",
   "execution_count": 11,
   "metadata": {},
   "outputs": [
    {
     "data": {
      "text/plain": [
       "51.715341959334566"
      ]
     },
     "execution_count": 11,
     "metadata": {},
     "output_type": "execute_result"
    }
   ],
   "source": [
    "mean(brexit_ages)"
   ]
  },
  {
   "cell_type": "markdown",
   "metadata": {},
   "source": [
    "The mean is lower for the Remain group:"
   ]
  },
  {
   "cell_type": "code",
   "execution_count": 12,
   "metadata": {},
   "outputs": [
    {
     "data": {
      "text/plain": [
       "48.01550387596899"
      ]
     },
     "execution_count": 12,
     "metadata": {},
     "output_type": "execute_result"
    }
   ],
   "source": [
    "mean(remain_ages)"
   ]
  },
  {
   "cell_type": "markdown",
   "metadata": {},
   "source": [
    "The difference between the means is:"
   ]
  },
  {
   "cell_type": "code",
   "execution_count": 13,
   "metadata": {},
   "outputs": [
    {
     "data": {
      "text/plain": [
       "3.6998380833655773"
      ]
     },
     "execution_count": 13,
     "metadata": {},
     "output_type": "execute_result"
    }
   ],
   "source": [
    "observed_difference = mean(brexit_ages) - mean(remain_ages)\n",
    "observed_difference"
   ]
  },
  {
   "cell_type": "markdown",
   "metadata": {},
   "source": [
    "We see that the means of the two groups are different - but can we be\n",
    "confident that this difference did not come about by chance?\n",
    "\n",
    "What do we mean by chance?  Now we have to define our null hypothesis.\n",
    "\n",
    "We hypothesize that there is in fact no difference between the ages of the two\n",
    "groups.  We propose that the difference between the means we see could\n",
    "reasonably occur if we did the following procedure:\n",
    "\n",
    "* sample 541 + 774 = 1315 people from this same underlying\n",
    "  doesn’t-matter-what-you-voted population;\n",
    "\n",
    "* arbitrarily split this sample into a group of 541 and a group of 774, call\n",
    "  these `group_A` and `group_B`;\n",
    "\n",
    "* calculate the mean age for `group_A` and subtract the mean age of\n",
    "  `group_B`;\n",
    "\n",
    "Call this procedure - one trial.  To test our null hypothesis, we would like\n",
    "to repeat this trial many times, recording the difference in means for each\n",
    "trial. By doing this we could build up a distribution of the kind of\n",
    "differences we would expect by chance - the sampling distribution.\n",
    "\n",
    "But - we don’t have any more data - so we don’t have many new groups of 541 +\n",
    "774 = 1315 to sample.  But it turns out, we can use the data we have to build\n",
    "the distribution we need.\n",
    "\n",
    "Let’s start with the null hypothesis - that there is no difference in the ages\n",
    "of the Leave and Remain groups. If that hypothesis is true, then all the\n",
    "ages in `brexit_ages` and in `remain_ages` can be considered as\n",
    "being samples from the same underlying group.\n",
    "\n",
    "To express this, I’m going to pool all the weights into one big group, like\n",
    "this:"
   ]
  },
  {
   "cell_type": "code",
   "execution_count": 14,
   "metadata": {},
   "outputs": [
    {
     "data": {
      "text/plain": [
       "1315"
      ]
     },
     "execution_count": 14,
     "metadata": {},
     "output_type": "execute_result"
    }
   ],
   "source": [
    "# The + below appends the second list to the first\n",
    "all_ages = brexit_ages + remain_ages\n",
    "len(all_ages)"
   ]
  },
  {
   "cell_type": "markdown",
   "metadata": {},
   "source": [
    "In this new pooled list, the first 541 ages are from the `brexit_ages` list,\n",
    "and the rest are from the `remain_ages` list.\n",
    "\n",
    "Now we have the new pooled list, we can do something similar to taking the new\n",
    "`group_A` and `group_B` groups we imagined above.  That is, we can\n",
    "*shuffle* the combined group to a random order, and split this shuffled\n",
    "combined group into a group of 541 and a group of 774.  We get the difference\n",
    "in means of these two groups, and store it.  We keep shuffling, to create more\n",
    "`group_A` and `group_B` groups, and more differences in means. The\n",
    "generated distribution of the mean differences is the distribution we expect\n",
    "on the null hypothesis, that there is no real difference between the two\n",
    "groups.  We can see where `observed_difference` lies in this generated\n",
    "distribution, and this gives us a measure of whether the\n",
    "`observed_difference` is likely on the null hypothesis.\n",
    "\n",
    "Python’s `random.shuffle` function can do the shuffle for us (see:\n",
    "[Shuffling list element order](https://matthew-brett.github.io/les-pilot/more_on_lists.html#list-shuffle)):"
   ]
  },
  {
   "cell_type": "code",
   "execution_count": 15,
   "metadata": {},
   "outputs": [],
   "source": [
    "import random"
   ]
  },
  {
   "cell_type": "markdown",
   "metadata": {},
   "source": [
    "Before shuffling, the first 541 age values are all for Leave voters.  Here are\n",
    "the first 10:"
   ]
  },
  {
   "cell_type": "code",
   "execution_count": 16,
   "metadata": {},
   "outputs": [
    {
     "data": {
      "text/plain": [
       "[71, 60, 74, 61, 47, 56, 76, 35, 44, 38]"
      ]
     },
     "execution_count": 16,
     "metadata": {},
     "output_type": "execute_result"
    }
   ],
   "source": [
    "# The first 10 ages before shuffling (all brexit)\n",
    "all_ages[:10]"
   ]
  },
  {
   "cell_type": "markdown",
   "metadata": {},
   "source": [
    "Here’s a random shuffle of the combined list of ages:"
   ]
  },
  {
   "cell_type": "code",
   "execution_count": 17,
   "metadata": {},
   "outputs": [
    {
     "data": {
      "text/plain": [
       "[24, 22, 81, 55, 72, 73, 41, 45, 55, 62]"
      ]
     },
     "execution_count": 17,
     "metadata": {},
     "output_type": "execute_result"
    }
   ],
   "source": [
    "random.shuffle(all_ages)\n",
    "# The first 10 ages of the shuffled list, mixed brexit and remain.\n",
    "all_ages[:10]"
   ]
  },
  {
   "cell_type": "markdown",
   "metadata": {},
   "source": [
    "To express all this, I’m going to make a function that takes the two lists,\n",
    "joins them, shuffles, them and returns two new lists, that have a random\n",
    "assortment of values from the original list:"
   ]
  },
  {
   "cell_type": "code",
   "execution_count": 18,
   "metadata": {},
   "outputs": [],
   "source": [
    "# Just in case you haven't imported this already\n",
    "import random"
   ]
  },
  {
   "cell_type": "code",
   "execution_count": 19,
   "metadata": {},
   "outputs": [],
   "source": [
    "def join_shuffle_split(first_list, second_list):\n",
    "    # Pool the lists, shuffle, split into lists of original length\n",
    "    first_len = len(first_list)\n",
    "    pooled = first_list + second_list\n",
    "    random.shuffle(pooled)\n",
    "    both = [pooled[:first_len], pooled[first_len:]]\n",
    "    return both"
   ]
  },
  {
   "cell_type": "markdown",
   "metadata": {},
   "source": [
    "Let’s check that is working as expected:"
   ]
  },
  {
   "cell_type": "code",
   "execution_count": 20,
   "metadata": {},
   "outputs": [],
   "source": [
    "# Make a couple of lists\n",
    "a_list = [0, 0, 0]\n",
    "b_list = [99, 99, 99, 99]"
   ]
  },
  {
   "cell_type": "code",
   "execution_count": 26,
   "metadata": {},
   "outputs": [
    {
     "data": {
      "text/plain": [
       "[[0, 99, 99], [0, 99, 99, 0]]"
      ]
     },
     "execution_count": 26,
     "metadata": {},
     "output_type": "execute_result"
    }
   ],
   "source": [
    "# Call the function to shuffle the lists\n",
    "join_shuffle_split(a_list, b_list)"
   ]
  },
  {
   "cell_type": "code",
   "execution_count": null,
   "metadata": {},
   "outputs": [],
   "source": [
    "join_shuffle_split(a_list, b_list)"
   ]
  },
  {
   "cell_type": "markdown",
   "metadata": {},
   "source": [
    "Now for our permutation test.  We’ve assumed the null hypothesis.  We join the\n",
    "lists, and shuffle the combined group.  We’ll call the first 541 values\n",
    "`group_A` and the last 774 values `group_B`."
   ]
  },
  {
   "cell_type": "code",
   "execution_count": 27,
   "metadata": {},
   "outputs": [],
   "source": [
    "fake_lists = join_shuffle_split(brexit_ages, remain_ages)\n",
    "group_A = fake_lists[0]\n",
    "group_B = fake_lists[1]"
   ]
  },
  {
   "cell_type": "markdown",
   "metadata": {},
   "source": [
    "After the shuffling, the `group_A` group is a random mix of the\n",
    "`brexit_ages` and `remain_ages` values, as is the `group_B` group.\n",
    "\n",
    "Here is a function that takes the original lists, makes `group_A` and\n",
    "`group_B`, and returns the difference in means."
   ]
  },
  {
   "cell_type": "code",
   "execution_count": 28,
   "metadata": {},
   "outputs": [],
   "source": [
    "def difference_in_means(first_list, second_list):\n",
    "    \"\"\" Shuffle values across lists, calculate difference in means.\n",
    "    \"\"\"\n",
    "    fake_lists = join_shuffle_split(first_list, second_list)\n",
    "    group_A = fake_lists[0]\n",
    "    group_B = fake_lists[1]\n",
    "    return mean(group_B) - mean(group_A)"
   ]
  },
  {
   "cell_type": "markdown",
   "metadata": {},
   "source": [
    "Let’s get the difference in means for these new groups, generated by the\n",
    "shuffle:"
   ]
  },
  {
   "cell_type": "code",
   "execution_count": 38,
   "metadata": {},
   "outputs": [
    {
     "data": {
      "text/plain": [
       "1.3216910974508878"
      ]
     },
     "execution_count": 38,
     "metadata": {},
     "output_type": "execute_result"
    }
   ],
   "source": [
    "difference_in_means(brexit_ages, remain_ages)"
   ]
  },
  {
   "cell_type": "markdown",
   "metadata": {},
   "source": [
    "That difference from the shuffled groups looks a lot less than the difference\n",
    "we originally found:"
   ]
  },
  {
   "cell_type": "code",
   "execution_count": 39,
   "metadata": {},
   "outputs": [
    {
     "data": {
      "text/plain": [
       "3.6998380833655773"
      ]
     },
     "execution_count": 39,
     "metadata": {},
     "output_type": "execute_result"
    }
   ],
   "source": [
    "observed_difference"
   ]
  },
  {
   "cell_type": "markdown",
   "metadata": {},
   "source": [
    "One difference is not enough.  We need more shuffled mean differences to see\n",
    "whether `observed_difference` is really unusual compared to the range of\n",
    "permuted group differences.  Here we run the shuffle procedure 10000 times, to\n",
    "get a large range of values:"
   ]
  },
  {
   "cell_type": "code",
   "execution_count": 52,
   "metadata": {},
   "outputs": [],
   "source": [
    "n_repeats = 10000\n",
    "shuffled_differences = []  # An empty list to store the differences\n",
    "for i in range(n_repeats):\n",
    "    fake_difference = difference_in_means(brexit_ages, remain_ages)\n",
    "    # Collect the new mean by adding to the end of the list\n",
    "    shuffled_differences.append(fake_difference)"
   ]
  },
  {
   "cell_type": "markdown",
   "metadata": {},
   "source": [
    "This gives us 10000 differences from groups that are compatible with our null\n",
    "hypothesis.   We can now ask whether `observed_difference` is unusually\n",
    "large compared to the distribution of these 10000 differences."
   ]
  },
  {
   "cell_type": "code",
   "execution_count": 46,
   "metadata": {},
   "outputs": [],
   "source": [
    "%matplotlib inline"
   ]
  },
  {
   "cell_type": "code",
   "execution_count": 47,
   "metadata": {},
   "outputs": [],
   "source": [
    "# The plotting package\n",
    "import matplotlib.pyplot as plt"
   ]
  },
  {
   "cell_type": "code",
   "execution_count": 48,
   "metadata": {},
   "outputs": [
    {
     "data": {
      "text/plain": [
       "(array([  24.,  194.,  932., 2195., 2974., 2395., 1008.,  240.,   34.,\n",
       "           4.]),\n",
       " array([-3.62760846, -2.8302562 , -2.03290394, -1.23555169, -0.43819943,\n",
       "         0.35915283,  1.15650508,  1.95385734,  2.7512096 ,  3.54856186,\n",
       "         4.34591411]),\n",
       " <a list of 10 Patch objects>)"
      ]
     },
     "execution_count": 48,
     "metadata": {},
     "output_type": "execute_result"
    },
    {
     "data": {
      "image/png": "[encoded data removed]",
      "text/plain": [
       "<Figure size 432x288 with 1 Axes>"
      ]
     },
     "metadata": {},
     "output_type": "display_data"
    }
   ],
   "source": [
    "plt.hist(shuffled_differences)"
   ]
  },
  {
   "cell_type": "markdown",
   "metadata": {},
   "source": [
    "The maximum of these differences is:"
   ]
  },
  {
   "cell_type": "code",
   "execution_count": 49,
   "metadata": {},
   "outputs": [
    {
     "data": {
      "text/plain": [
       "4.345914112539219"
      ]
     },
     "execution_count": 49,
     "metadata": {},
     "output_type": "execute_result"
    }
   ],
   "source": [
    "max(shuffled_differences)"
   ]
  },
  {
   "cell_type": "markdown",
   "metadata": {},
   "source": [
    "Remember our `observed_difference`?"
   ]
  },
  {
   "cell_type": "code",
   "execution_count": null,
   "metadata": {},
   "outputs": [],
   "source": [
    "observed_difference"
   ]
  },
  {
   "cell_type": "markdown",
   "metadata": {},
   "source": [
    "So - how many of the `shuffled_differences` are greater than or equal to the\n",
    "`observed_difference`?"
   ]
  },
  {
   "cell_type": "code",
   "execution_count": 53,
   "metadata": {},
   "outputs": [
    {
     "data": {
      "text/plain": [
       "1"
      ]
     },
     "execution_count": 53,
     "metadata": {},
     "output_type": "execute_result"
    }
   ],
   "source": [
    "n_greater_equal = 0\n",
    "for i in range(n_repeats):\n",
    "    if shuffled_differences[i] >= observed_difference:\n",
    "        n_greater_equal = n_greater_equal + 1\n",
    "n_greater_equal"
   ]
  },
  {
   "cell_type": "code",
   "execution_count": 51,
   "metadata": {},
   "outputs": [
    {
     "data": {
      "text/plain": [
       "0.0002"
      ]
     },
     "execution_count": 51,
     "metadata": {},
     "output_type": "execute_result"
    }
   ],
   "source": [
    "2 / 10000"
   ]
  },
  {
   "cell_type": "markdown",
   "metadata": {},
   "source": [
    "In 10000 samples, we only found one sample greater than or equal to the\n",
    "observed difference.\n",
    "\n",
    "So, our estimate is that there is a 1 in 10000 chance that the observed\n",
    "difference could have come about by differences in random sampling."
   ]
  }
 ],
 "metadata": {
  "kernelspec": {
   "display_name": "Python 3",
   "language": "python",
   "name": "python3"
  },
  "language_info": {
   "codemirror_mode": {
    "name": "ipython",
    "version": 3
   },
   "file_extension": ".py",
   "mimetype": "text/x-python",
   "name": "python",
   "nbconvert_exporter": "python",
   "pygments_lexer": "ipython3",
   "version": "3.6.5"
  }
 },
 "nbformat": 4,
 "nbformat_minor": 2
}
