{
 "cells": [
  {
   "cell_type": "markdown",
   "metadata": {},
   "source": [
    "## If and For\n",
    "\n",
    "### If\n",
    "\n",
    "We have already seen *assignment* statements ([Assignment](https://matthew-brett.github.io/les-pilot/assignment.html)).  We saw that\n",
    "they have the form: LHS `=` RHS, where the LHS is a variable name and the\n",
    "RHS is an expression.\n",
    "\n",
    "Now we add a couple of essential statements you will use all the time: `if`\n",
    "statements and `for` statements.\n",
    "\n",
    "Here is an `if` statement:"
   ]
  },
  {
   "cell_type": "code",
   "execution_count": null,
   "metadata": {},
   "outputs": [],
   "source": [
    "x = 3\n",
    "if x == 3:\n",
    "    print(\"x does equal 3\")\n"
   ]
  },
  {
   "cell_type": "markdown",
   "metadata": {},
   "source": [
    "There are a few new things here.  This `if` statement has the form:\n",
    "\n",
    "* `if` followed by\n",
    "\n",
    "* an expression (`x == 3`) followed by\n",
    "\n",
    "* `:` (a colon) followed by\n",
    "\n",
    "* an indented *block* of code (\\`\\`    print(“x does equal 3”)\\`\\`)\n",
    "\n",
    "Remeber that an expression evaluates to a result.  The trick of the `if`\n",
    "statement, is that it will only run the indented block of code above, if the\n",
    "expression evaluates to True.  Try it.  Run the code above.  Now try:"
   ]
  },
  {
   "cell_type": "code",
   "execution_count": null,
   "metadata": {},
   "outputs": [],
   "source": [
    "x = 4\n",
    "if x == 3:\n",
    "    print(\"x does equal 3\")\n"
   ]
  },
  {
   "cell_type": "markdown",
   "metadata": {},
   "source": [
    "It doesn’t print anything because `x == 3` is False.\n",
    "\n",
    "Next notice that Python knows which code to run, when `x == 3` is True,\n",
    "because of the *indentation*.   It runs all the code that is indented, when\n",
    "`x == 3` is True, and ignores that code otherwise.  There can be several\n",
    "lines in the indented block, but they all have to be indented the same amount:"
   ]
  },
  {
   "cell_type": "code",
   "execution_count": null,
   "metadata": {},
   "outputs": [],
   "source": [
    "x = 3\n",
    "if x == 3:\n",
    "    print(\"Here in the if block\")\n",
    "    print(\"x does equal 3\")\n",
    "    print(\"Still in if block\")\n"
   ]
  },
  {
   "cell_type": "markdown",
   "metadata": {},
   "source": [
    "Now an exercise.  For this exercise, you will need the *modulo* operator:\n",
    "`%`.  In an expression it returns the remainder of dividing the number on\n",
    "the left by the number on the right.  Here are some examples:"
   ]
  },
  {
   "cell_type": "code",
   "execution_count": null,
   "metadata": {},
   "outputs": [],
   "source": [
    "3 % 2\n",
    "4 % 2\n",
    "13 % 3\n",
    "13 % 13"
   ]
  },
  {
   "cell_type": "markdown",
   "metadata": {},
   "source": [
    "You can test if one number is divisible by another number, like this:"
   ]
  },
  {
   "cell_type": "code",
   "execution_count": null,
   "metadata": {},
   "outputs": [],
   "source": [
    "x = 12\n",
    "# Is x divisible by 4?\n",
    "# If it is, then x % 4 will be 0\n",
    "x % 4 == 0"
   ]
  },
  {
   "cell_type": "code",
   "execution_count": null,
   "metadata": {},
   "outputs": [],
   "source": [
    "x = 13\n",
    "# Now x % 4 gives 1\n",
    "x % 4 == 0"
   ]
  },
  {
   "cell_type": "markdown",
   "metadata": {},
   "source": [
    "The exercise is to write an `if` statement that prints “yes” if the number\n",
    "`x` is exactly divisible by 7, and prints nothing otherwise.  Test your code\n",
    "by setting various values of `x`, and running the cell.\n",
    "\n",
    "What happens if you forget the colon `:` at the end of the `if` line?\n",
    "\n",
    "What happens if you forget to indent the block?\n",
    "\n",
    "Now print “no” if the number is divisible by 7 (and “yes” if it is).\n",
    "\n",
    "Now print “yes 7” if the number is divisible by 7, otherwise print “yes 4” if\n",
    "the number is divisible by 4 otherwise print “no neither”.\n",
    "\n",
    "Careful.  If `x == 28`, you should only see “yes 7”, not “yes 4”.\n",
    "\n",
    "# For loops\n",
    "\n",
    "As we’ve seen by now, we often want to repeat the same thing multiple times.\n",
    "The way we usually do this in Python is using a `for` loop.  A for loop\n",
    "looks like this:"
   ]
  },
  {
   "cell_type": "code",
   "execution_count": null,
   "metadata": {},
   "outputs": [],
   "source": [
    "my_list = [1, 3, 5]\n",
    "for value in my_list:\n",
    "    print(value)\n"
   ]
  },
  {
   "cell_type": "markdown",
   "metadata": {},
   "source": [
    "We see that the for statement is rather like the `if` statement.  It\n",
    "has form:\n",
    "\n",
    "* `for` followed by\n",
    "\n",
    "* a variable name (in this case `i`, called the *loop variable*) followed\n",
    "  by:\n",
    "\n",
    "* an expression that evaluates to a sequence of things - in our case, the list\n",
    "  `[1, 3, 5]`;\n",
    "\n",
    "* `:` (a colon) followed by\n",
    "\n",
    "* an indented *block* of code (\\`\\`    print(i)\\`\\`)\n",
    "\n",
    "For statments are just a little more complicated than  statements, and it\n",
    "is worth going through the logic carefully.  Read the for statement above like\n",
    "this:\n",
    "\n",
    "* in the first iteration of the loop, set `value` to have value 1.  Then print\n",
    "  `value`;\n",
    "\n",
    "* in the second iteration of the loop, set `value` to have value 3.  Then\n",
    "  print `value`;\n",
    "\n",
    "* in the third iteration of the loop, set `value` to have value 5.  Then\n",
    "  print `value`;\n",
    "\n",
    "Put another way, the `for` loop above does exactly the same as:"
   ]
  },
  {
   "cell_type": "code",
   "execution_count": null,
   "metadata": {},
   "outputs": [],
   "source": [
    "# First time through the loop\n",
    "value = 1\n",
    "print(value)\n",
    "# Second time through the loop\n",
    "value = 1\n",
    "print(value)\n",
    "# Third time through the loop\n",
    "value = 1\n",
    "print(value)"
   ]
  },
  {
   "cell_type": "markdown",
   "metadata": {},
   "source": [
    "What would happen if I do this?\n",
    "\n",
    "# Exercise\n",
    "\n",
    "Make a list of all the odd numbers between 1 and 9 inclusive.\n",
    "\n",
    "Use a `for` loop to print out each of these numbers.\n",
    "\n",
    "Use a `for` loop to print out the sum of all these numbers.  Your loop will\n",
    "look something like this:\n",
    "\n",
    "```\n",
    ">>> # A variable to hold the running total of the numbers\n",
    ">>> total = 0\n",
    ">>> for value in odd_numbers:\n",
    "...     # The first time through the loop I should get get 1\n",
    "...     # The second time through the loop I get 4 (1 + 3 == 4)\n",
    "...     # The third time through the loop I get 9 (4 + 5 == 9)\n",
    "...     # The fourth time through the loop I get 16 (9 + 7 == 16)\n",
    "...     # The fifth time through the loop I get 25 (16 + 9 == 25)\n",
    "...     # Do something here to modify total\n",
    "...     print(\"Current total is\", total)\n",
    "...\n",
    ">>> print(total)\n",
    "25\n",
    "```\n",
    "\n",
    "Use a `for` loop to count how many odd numbers between 1 and 9 inclusive are\n",
    "divisible by 3.\n",
    "\n",
    "# Range\n",
    "\n",
    "Sometimes we want to use many more than a few goes round the for loop.  For\n",
    "example, maybe I want to do the same thing 100 times.  I could type in a huge\n",
    "list with 100 elements, as in `my_list = [0, 1, 2, 3, 4, .. ]` and so on.\n",
    "That seems pretty boring.  Is there an automatic way to do this?\n",
    "\n",
    "Yes!  It’s the `range` function.\n",
    "\n",
    "Here is `range` in action:"
   ]
  },
  {
   "cell_type": "code",
   "execution_count": null,
   "metadata": {},
   "outputs": [],
   "source": [
    "my_range = range(5)\n",
    "my_range"
   ]
  },
  {
   "cell_type": "markdown",
   "metadata": {},
   "source": [
    "This is a slightly odd type of value, that will give me all the numbers\n",
    "starting a 0, and going up to, but not including, 5.  We can convert this\n",
    "thing into a list to show these numbers:"
   ]
  },
  {
   "cell_type": "code",
   "execution_count": null,
   "metadata": {},
   "outputs": [],
   "source": [
    "my_numbers = list(my_range)\n",
    "my_numbers"
   ]
  },
  {
   "cell_type": "markdown",
   "metadata": {},
   "source": [
    "Notice the 4 - up to *but not including* 5.\n",
    "\n",
    "# Exercise\n",
    "\n",
    "Use a `for` loop to calculate out the sum of the numbers from 0 to 40,\n",
    "inclusive.  Print out the total at the end. Your loop will look something like\n",
    "this:"
   ]
  }
 ],
 "metadata": {},
 "nbformat": 4,
 "nbformat_minor": 2
}