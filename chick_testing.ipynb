{
 "cells": [
  {
   "cell_type": "markdown",
   "metadata": {},
   "source": [
    "## Permuting chicks\n",
    "\n",
    "In a moment we are going to compare some measures we collected from two\n",
    "different groups.\n",
    "\n",
    "The data we are going to compare is from an experiment in which domestic\n",
    "chicks were fed a feed supplement (`with_supplement`), or were fed a normal\n",
    "diet without supplements (`no_supplement`). They were weighed after 2 weeks\n",
    "on these diets to test whether the supplement increases chick weight.\n",
    "\n",
    "Here are the chick weights for the two groups:"
   ]
  },
  {
   "cell_type": "code",
   "execution_count": null,
   "metadata": {},
   "outputs": [],
   "source": [
    "no_supplement = [179, 160, 136, 227, 217, 168, 108, 124, 143, 140]\n",
    "with_supplement = [309, 229, 181, 141, 260, 203, 148, 169, 213, 257, 244, 271]"
   ]
  },
  {
   "cell_type": "markdown",
   "metadata": {},
   "source": [
    "`no_supplement` and `with_supplement` are lists.\n",
    "\n",
    "We can get the number of items in the list using `len`. For example, there\n",
    "are 10 chicks in the `no_supplement` group:"
   ]
  },
  {
   "cell_type": "code",
   "execution_count": null,
   "metadata": {},
   "outputs": [],
   "source": [
    "len(no_supplement)"
   ]
  },
  {
   "cell_type": "markdown",
   "metadata": {},
   "source": [
    "We can get the sum of the values in the list with `sum`:"
   ]
  },
  {
   "cell_type": "code",
   "execution_count": null,
   "metadata": {},
   "outputs": [],
   "source": [
    "sum(no_supplement)"
   ]
  },
  {
   "cell_type": "code",
   "execution_count": null,
   "metadata": {},
   "outputs": [],
   "source": [
    "# Checking that the sum is the addition of all the elements.\n",
    "179 + 160 + 136 + 227 + 217 + 168 + 108 + 124 + 143 + 140"
   ]
  },
  {
   "cell_type": "markdown",
   "metadata": {},
   "source": [
    "The *mean* of the values in the list is defined as the sum divided by\n",
    "the number of items. For example, here is the mean of the weights in the\n",
    "`no_supplement` group:"
   ]
  },
  {
   "cell_type": "code",
   "execution_count": null,
   "metadata": {},
   "outputs": [],
   "source": [
    "sum(no_supplement) / len(no_supplement)"
   ]
  },
  {
   "cell_type": "markdown",
   "metadata": {},
   "source": [
    "Here is a function to calculate the mean, like this:"
   ]
  },
  {
   "cell_type": "code",
   "execution_count": null,
   "metadata": {},
   "outputs": [],
   "source": [
    "def mean(some_list):\n",
    "    \"\"\" Calculates the mean of the values in `some_list`\n",
    "    \"\"\"\n",
    "    return sum(some_list) / len(some_list)"
   ]
  },
  {
   "cell_type": "markdown",
   "metadata": {},
   "source": [
    "Now we can get the mean with:"
   ]
  },
  {
   "cell_type": "code",
   "execution_count": null,
   "metadata": {},
   "outputs": [],
   "source": [
    "mean(no_supplement)"
   ]
  },
  {
   "cell_type": "markdown",
   "metadata": {},
   "source": [
    "The mean is greater for the `with_supplement` group:"
   ]
  },
  {
   "cell_type": "code",
   "execution_count": null,
   "metadata": {},
   "outputs": [],
   "source": [
    "mean(with_supplement)"
   ]
  },
  {
   "cell_type": "markdown",
   "metadata": {},
   "source": [
    "The difference between the means is:"
   ]
  },
  {
   "cell_type": "code",
   "execution_count": null,
   "metadata": {},
   "outputs": [],
   "source": [
    "observed_difference = mean(with_supplement) - mean(no_supplement)\n",
    "observed_difference"
   ]
  },
  {
   "cell_type": "markdown",
   "metadata": {},
   "source": [
    "We see that the means of the two groups are different - but can we be\n",
    "confident that this difference did not come about by chance?\n",
    "\n",
    "Here’s the function from [Comparing two groups with permutation testing](https://matthew-brett.github.io/les-pilot/brexit_ages.html).  It permutes the values between\n",
    "the two lists."
   ]
  },
  {
   "cell_type": "code",
   "execution_count": null,
   "metadata": {},
   "outputs": [],
   "source": [
    "# Just in case you haven't imported this already\n",
    "import random"
   ]
  },
  {
   "cell_type": "code",
   "execution_count": null,
   "metadata": {},
   "outputs": [],
   "source": [
    "def join_shuffle_split(first_list, second_list):\n",
    "    # Pool the lists, shuffle, split into lists of original length\n",
    "    first_len = len(first_list)\n",
    "    pooled = first_list + second_list\n",
    "    random.shuffle(pooled)\n",
    "    both = [pooled[:first_len], pooled[first_len:]]\n",
    "    return both"
   ]
  },
  {
   "cell_type": "markdown",
   "metadata": {},
   "source": [
    "Here’s a function from [Comparing two groups with permutation testing](https://matthew-brett.github.io/les-pilot/brexit_ages.html) that uses `join_shuffle_split` to\n",
    "get fake groups, and calculates the mean difference on those groups:"
   ]
  },
  {
   "cell_type": "code",
   "execution_count": null,
   "metadata": {},
   "outputs": [],
   "source": [
    "def difference_in_means(first_list, second_list):\n",
    "    \"\"\" Shuffle values across lists, calculate difference in means.\n",
    "    \"\"\"\n",
    "    fake_lists = join_shuffle_split(first_list, second_list)\n",
    "    group_A = fake_lists[0]\n",
    "    group_B = fake_lists[1]\n",
    "    return mean(group_B) - mean(group_A)"
   ]
  },
  {
   "cell_type": "markdown",
   "metadata": {},
   "source": [
    "## Exercise\n",
    "\n",
    "Build up the *sampling distribution* of the difference in means.\n",
    "\n",
    "Make an empty list called `differences`.\n",
    "\n",
    "Make a `for` loop that runs 10000 times.\n",
    "\n",
    "In the `for` loop, make a new mean difference using `difference_in_means`.\n",
    "\n",
    "Append this mean difference to `differences`.\n",
    "\n",
    "`differences` now contains an estimate of the sampling distribution.\n",
    "\n",
    "Show a histogram of the distribution.\n",
    "\n",
    "Maybe using the code from the end of [Comparing two groups with permutation testing](https://matthew-brett.github.io/les-pilot/brexit_ages.html), count how many of\n",
    "values in `differences` (the sampling distribution) are greater than, or\n",
    "equal to `observed_difference`.\n",
    "\n",
    "Divide by 10000 to get the proportion of the sampling distribution that is\n",
    "greater than or equal to `observed_difference`.\n",
    "\n",
    "Do you think `observed_difference` is likely, if the null hypothesis is\n",
    "true?"
   ]
  }
 ],
 "metadata": {},
 "nbformat": 4,
 "nbformat_minor": 2
}