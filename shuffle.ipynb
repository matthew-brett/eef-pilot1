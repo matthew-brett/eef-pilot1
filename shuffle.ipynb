{
 "cells": [
  {
   "cell_type": "markdown",
   "metadata": {},
   "source": [
    "## Shuffle\n",
    "\n",
    "<!-- requires\n",
    "slice-list -->\n",
    "Sometimes we want to take the elements in a list, and put them into a random\n",
    "order.\n",
    "\n",
    "Luckily, Python thought of that for us."
   ]
  },
  {
   "cell_type": "code",
   "execution_count": null,
   "metadata": {},
   "outputs": [],
   "source": [
    "import random"
   ]
  },
  {
   "cell_type": "code",
   "execution_count": null,
   "metadata": {},
   "outputs": [],
   "source": [
    "my_list = [5, 1, 3, 2, 7]\n",
    "my_list"
   ]
  },
  {
   "cell_type": "markdown",
   "metadata": {},
   "source": [
    "Now we shuffle the elements to a random order:"
   ]
  },
  {
   "cell_type": "code",
   "execution_count": null,
   "metadata": {},
   "outputs": [],
   "source": [
    "random.shuffle(my_list)\n",
    "my_list\n",
    "random.shuffle(my_list)\n",
    "my_list\n",
    "random.shuffle(my_list)\n",
    "my_list"
   ]
  },
  {
   "cell_type": "markdown",
   "metadata": {},
   "source": [
    "## Exercise\n",
    "\n",
    "Here’s a cell that makes a list with the names of all the cards in a standard\n",
    "52 card pack.  Run it to get a not-shuffled pack of cards."
   ]
  },
  {
   "cell_type": "code",
   "execution_count": null,
   "metadata": {},
   "outputs": [],
   "source": [
    "suits = ['Hearts', 'Diamonds', 'Clubs', 'Spades']\n",
    "values = ['2', '3', '4', '5', '6', '7', '8', '9', '10',\n",
    "          'Jack', 'Queen', 'King', 'Ace']\n",
    "deck = []\n",
    "for suit in suits:\n",
    "    for value in values:\n",
    "        card = value + ' of ' + suit\n",
    "        deck.append(card)\n",
    "\n",
    "# Show the first 15 cards in the deck\n",
    "deck[:15]"
   ]
  },
  {
   "cell_type": "markdown",
   "metadata": {},
   "source": [
    "Shuffle the deck with `random.shuffle`.\n",
    "\n",
    "Use a `for` loop to shuffle the cards 10000 times.   Your loop might start\n",
    "like this:\n",
    "\n",
    "Count how many times the `\"Ace of Spades\"` is the first card, after\n",
    "shuffling.   What proportion is that?  Is that what you were expecting?  What\n",
    "is the exact answer, using probability?\n",
    "\n",
    "Again use a `for` loop again to shuffle the cards 10000 times.  Count how\n",
    "many times the `\"Ace of Spades\"` is either the first card or the second\n",
    "card.   What proportion is that?  Can you calculate what the exact answer is,\n",
    "using probability?"
   ]
  }
 ],
 "metadata": {},
 "nbformat": 4,
 "nbformat_minor": 2
}