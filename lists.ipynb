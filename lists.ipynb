{
 "cells": [
  {
   "cell_type": "markdown",
   "metadata": {},
   "source": [
    "## Lists\n",
    "\n",
    "We have seen numbers and strings as types."
   ]
  },
  {
   "cell_type": "code",
   "execution_count": null,
   "metadata": {},
   "outputs": [],
   "source": [
    "a = 10\n",
    "type(a)"
   ]
  },
  {
   "cell_type": "code",
   "execution_count": null,
   "metadata": {},
   "outputs": [],
   "source": [
    "b = 1.0\n",
    "type(b)"
   ]
  },
  {
   "cell_type": "code",
   "execution_count": null,
   "metadata": {},
   "outputs": [],
   "source": [
    "my_name = \"Matthew\"\n",
    "type(my_name)"
   ]
  },
  {
   "cell_type": "markdown",
   "metadata": {},
   "source": [
    "Another useful type, is the `list`.  Here we make an empty list:"
   ]
  },
  {
   "cell_type": "code",
   "execution_count": null,
   "metadata": {},
   "outputs": [],
   "source": [
    "my_list = []\n",
    "type(my_list)"
   ]
  },
  {
   "cell_type": "markdown",
   "metadata": {},
   "source": [
    "We can also put elements into the list:"
   ]
  },
  {
   "cell_type": "code",
   "execution_count": null,
   "metadata": {},
   "outputs": [],
   "source": [
    "my_list = [2, 4, 6]\n",
    "my_list"
   ]
  },
  {
   "cell_type": "markdown",
   "metadata": {},
   "source": [
    "What do you think you will get from `len(my_list)`?\n",
    "\n",
    "Like other Python object, lists have *methods*.  Methods are functions,\n",
    "attached to the object, that operate on the object.  You can get to the\n",
    "methods with the variable name (e.g. `my_list`) followed by a dot `.`,\n",
    "followed by the method name.  One useful method for a list is `append`.  It\n",
    "works like this:"
   ]
  },
  {
   "cell_type": "code",
   "execution_count": null,
   "metadata": {},
   "outputs": [],
   "source": [
    "another_list = []\n",
    "another_list\n",
    "another_list.append(3)\n",
    "another_list\n",
    "another_list.append(5)\n",
    "another_list"
   ]
  },
  {
   "cell_type": "markdown",
   "metadata": {},
   "source": [
    "Another useful method is `count`.  It counts the number of times a\n",
    "particular element occurs in the list."
   ]
  },
  {
   "cell_type": "code",
   "execution_count": null,
   "metadata": {},
   "outputs": [],
   "source": [
    "another_list.count(3)\n",
    "another_list.append(3)\n",
    "another_list.count(3)\n",
    "another_list.count(99)"
   ]
  },
  {
   "cell_type": "markdown",
   "metadata": {},
   "source": [
    "# Exercises\n",
    "\n",
    "Make a list with all the odd numbers from 1 through 9 (just type it in for\n",
    "now).  It should look this this when you print it:\n",
    "\n",
    "```\n",
    "[1, 3, 5, 7, 9]\n",
    "```\n",
    "\n",
    "Print out the number of elements there are in this list.\n",
    "\n",
    "Print out the number of 7s in the list.\n",
    "\n",
    "Append the value 7 to this list.  It should print out as:\n",
    "\n",
    "```\n",
    "[1, 3, 5, 7, 9, 7]\n",
    "```\n",
    "\n",
    "Print out the number of 7s again.\n",
    "\n",
    "Append another 7.  Print out the number of 7s."
   ]
  }
 ],
 "metadata": {},
 "nbformat": 4,
 "nbformat_minor": 2
}